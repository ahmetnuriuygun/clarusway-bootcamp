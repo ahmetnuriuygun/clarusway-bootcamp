{
  "nbformat": 4,
  "nbformat_minor": 0,
  "metadata": {
    "colab": {
      "name": "Summary.ipynb",
      "provenance": [],
      "toc_visible": true,
      "collapsed_sections": [
        "XkVCa1-r1Xlk",
        "4B59T8v_6cBJ",
        "87mE8q0V96wE",
        "FQzx-j6wHjyV",
        "cQUH14b4IxUE",
        "WCuHs7Mkz6ME",
        "GDE6TiTF74RF",
        "iClxXfHe68VK",
        "5jdAldIia_Uf",
        "STrs1MyOf7ZD",
        "XBg_sDrSlPrs",
        "mzfrjtwWC4kd",
        "7I00kJVDGhDu",
        "gTUZG00LJSRI",
        "yTrFFxiCMqvK",
        "-09_SehTPUmD",
        "1ObUxT6UW4Bo",
        "iS8x-0vPakhe",
        "oEujapsWdjE7",
        "T5Kcg2ZhVT8D",
        "2QrLn3m3iXZ3",
        "sm-0S3BXm6ii",
        "a80tMiOPpKmZ",
        "OfNe-Xf7qt3D"
      ]
    },
    "kernelspec": {
      "name": "python3",
      "display_name": "Python 3"
    },
    "language_info": {
      "name": "python"
    }
  },
  "cells": [
    {
      "cell_type": "markdown",
      "source": [
        "![CLARUSWAY_LOGO.png](data:image/png;base64,iVBORw0KGgoAAAANSUhEUgAAASIAAAA+CAYAAACP3RbiAAAAAXNSR0IArs4c6QAAAARnQU1BAACxjwv8YQUAAAAJcEhZcwAADsMAAA7DAcdvqGQAACq3SURBVHhe7Z0JnBx1lcf/Vd1zJBNuRUQUBQ9AV3dVXFGD6wFIiCQEBF3AVQ4vVHIQzgUDYjhyDdeCLoeIFyAh3JesB7qo6Cp4ISioqIAoBMwx09Ndte9b1a/zpqaqurpnhklI//J56aqa7jr+x+//3vu//yvPtYGj91n2msHQu++hasnrkjN0udB11z/jfRFPts1nd2O/8b1a2XOzPn7dvOvlcAcddLARw69/toRzbprzi6P61l775u6h+pG2UBJuuuDimYu3rO930EEHGynaIiLwSK00/2N9A396b8+ga0utirGdKEeH17c76KCDjRRtE9G05cc+9Ieav3Bab8XtN2nQdQujtAMhsRMun7H4tfXdDjroYCNE20QEdvvG8RcOhO6+3bur7pDJg25Se6rRFp7nzqpvd9BBBxshRkVE4Pe18pE158IdSjX34ckD7nl+UP9LS9jra/udvU99u4MOOtjIMGoiejQs/+yZwPsK25v7oZshptpLhZRahOdC7/yrZi7tqe930EEHGxG8b806+/JduqovrYTOVYQPxNRyldBzg/I5KF+ohH59Oz7G3yrO3fqR6445Iz6Fc1fNXLzjzuXqL33P9QzJd1aL/LDS5f5QK+VN39f34218TGXnjjtgxfyzOWcHHXSw8cCbPa3/4Fd1Vb88rWfIVeXAOiKKCCf6jAjIkJQcf3Io9N501PXzfhedRXDHrLMO27YUXgIRManP9+6vltxvREqyX4SIZH+lfHevmSvm/0j+1EEHHWwk8N/St/Kr3xnsvv6yNT0R4RRBGLotA+eWLdt3WXf9kHsq9K8cCL1f1neZDXMvL9fcLiIldorAc5t7Xnji8v0WFv1FBx108ByAf+DVC0LRZE6+d6j81BfX9LqVQTG3kXDWtMAFe9V33YHXzl/9p5r3UdGqUKwa2K5Uc68uV6PI6yKQr83o9crvqe9ONPBZPV9kR5E3iEwV2U1kZxGO94oUBQUr1mdDRu2fK4DkNZF2SR7FNnkuK/y93XOPVdkkz1ME3PMWIi8V+WeRt9XljSLU+9YizerZlg3brWA0z869t/tbYH+L5N17sv5bfU6L5H2XGw3n8L37TxISOn27UuD27q2IahJmmmbqM6qE7qFa4L/2uJvmrOYcF+6zqLRLb/DFyV54iJhukYkWm2qeWxV47uGaLwTmZZtm0bHo8/5S6O2657XzV3HeCcAOInuLTBehcT5PhAKzeFIE0/RnIixT+Z7ISpEsvF3kRBEt86Uit8ab44aDRf4j3mwAs/czIq3OKBxalyxwPpoMbeEPIpTN3SIPinA8DxDB10S0I60Q+a94syW8X+SweJOx0p0g8n/R3kjQkRhY+M2/ibxYZLKIBVPAfxfhWe4T+aYI5fdHEc6vOEpkRrwZlcOnRXjuIthT5Jh4M8JXRb4YbzbFC0XOFdks2nPuJpFz4s2moF0n/bHU3YdEno72hmNbEa61abTn3BqRQ0Ta6aM7iSwRgQLATxpEdNL0/q3/WPXuCZz3ks39wL27p+K28sNmRMTxU068Ye5n66dxF89Y9vydypUHpUVtZomI73Kux0Xj4lgTIqLXn77H8mNPjk767AEt53MiaGQ0zKKQJ3J/E/mSyJn17SQ+IMLsopY5FX55vDkuYBS/RmRatLcOT4n8k8ifo73iWChCx24FEBBEPV/kuxzIwPYidHYdZZeJzI03WwLX0c6FZk5IyO3R3nDQEfpFGBxa0WrBMyIMOqeJ/JADAsjekgfEVJRIaQMfjDcj3CECORXBO0QgRyVwBh6IrAhop8fFm8MwU+S6eHME6BsMpopTRRbEm4VB++ceGQDAWpG9G6rc526c/ddtysFRorOEa4Qw7hjsdg9WS8NoPw1h6OadOn0p7BrhiOvmPPF04H+yvjsMvtzCVkJyojHVj2RDvnr0t2ad9WxFXFM4e4j8SuRIEUtCjIqPivxWhFHuYRFGSQt+D4nNE6FDvUBkovFykXfFm8OA9jEr3hx34EN8kwidi8GqVdNhPPBekXtEcCtYEkIbgJypXzS6x0XSFlOiEUDudmkSZGAb9Vvqn81AXbw+3mxANfAi4DpapmjjPFcRsL4TjT8Nn6p/pmGxyEPxZgQGi6LPqjhCREkI7fELIncNaxiLbpxzY58X/i/b9L77hspie/nRdg42Ey3quAXvu4DOGOHx0F0zEHoP1HeHgS9Nlv8aXu5sbCI3t+R7M/tHY4sWxUEiaDO2ATwh8nWRA0XeKfJmEfxEu9YF4mJUsRUDUPSSZtxEgGfSuCw61T/izQgfrn+OBkTD02hVjhZhtER9pw0R/aGgutGmPhHtTRzQIKjnKdFejF+IMLKjBeMbgjip33+tC2XFCI4pngU13xSQyaR4Mxf4pXADWEASr4k3mwLTUgGB/inebAr8nK+KNyM8Vv8E+Ma2ijdHAG36WBEl3U1E0IiKDjCYknPizQhwBO1lpGf6xaXgMOn5ka+Dq/1OtCIkyFFi5E8HVdZUGgx72Ir5a9cE7lChO9SuVJTRipppRp57tysNFlVT28W/iOCv2Sbaizn4JyJUMuYT5s39IjQ2OjOfVDqjIJ3r1SL4Tn4tsr6Ajs+9K+4SuSLejMAzvyzebBtXiZxvhAZFbBmE9FYROuO3RRQMKDRaNMeJAJ0Gv8Tm0V4MBhrqmfvC3Pq9CGY1gxBa0U9FMLkwedCSIaWfiyQxIEIZK+jk+FSagYEt6ZeinBjkmqFPBOJU/Fgks78ZMDihkeggBRlALgo0PvV3peFGkZvjzQjcq2o4eYCYcbWgqQNMZwazaCAfQUQn3Tj3gc38YJjD6++h734nmlGOd9OT3nvBMdOWNgp1Tdeae1aH3pfru5kQzSmX5OQGz7vngLPGK1UII+PnRWBqwJ3g8EP1/o2IHdWzQCPkORll6IxFfjPeoIFuF29GgISuFLGmhvVLjAcgb8wgOogCEkBTmwig5TBoKL4lArHkTTBY4JyFlKhnRnW0A4tbRNR4QCPOMn0s0LQV36l/AsixYWFkgPuAjBQMjEVAX3p3vBnhWhGIRTU+rovPK0ujo33jW0LLVtDuMTPzAOlS3uqgpp81BsdUlWqbUnBOjwvthWJHc62UR0YvDZz/kfq2IyzgiQFv9lDoWZNgBKi5lXJuHNgZ2FH4oR3HZRHg9aeAFPiBThL5a7TXGphpQBuggzdR9cYd+9Y/AR0GzYQR/xEO1MEopo1ivMCMinWeMtqjjU0EMLmsRwATjUGkVeBLwtG9KNpbBwjXzjZhBjaDtj1IjgFRZxd3EdHZqSww06fgnor6h3DQq/bP8zNzSxvBj6eA5PI0ZuIFL443I2DKMVGQRZ7UO9qy+uQwIdFCG16fVCKaf/28p7YqhYfLr4fxDjurhDSyepkcP+2T0/pfV991h908f420xP+s72aiJj/8S1ByokHVjwyHHJ330wPOJHZnLEFFMzprGfBYEF6a6t0KbhD5S7w5IaABWWc0M3XM9FDpaEUKfBNFOsto8f36p2KiHPnJ67Yz2FgkZ0Yx5dACFWgdeVoNMUqvjDejNofJQ1gAoGNDRlmgzVr/ECEKuAuK4N/rn4CBiRAL2saFItq1GaDs99KAX836gdESrYZnQXiCNSO5FrOpDaQSETjlhrk39XjhnfXdBrhT7rqcTkebyNHTP77PssZ5V3qlCwbDYep5KjjbH6t+NL2fgl6p0YvuPXRRXsW2CioaB7QCv5C1fTdU7C7yongzssO/EW9GQBXWUQjtAEf8eCPZUCbKdE3GuxAyMJagXK15xUCnRJMG22nxL2E54DhXWPMpCczuV8SbEex180DYhh180Fa1PiCkxsoIAfFYef0NM594KTX30XaYVUsuXEcDtpMUmJAjYp0yiQhs49cOE2M3bQozYoZNUpzNcmR6NfAbpsGRy+fVBkLvBDneVA3mbI+I+ffblLABudzupYHa/vXdsQAMbadvUVG1k27IOEBE65VRh0A8BaNmNCtaBxMBGgw3XlBSVBSd2RlrEJphgR9krGc38XtYWC0gCcwfhTq6aYPa9JPxXxZoUzqzxffzYrQs8FvpjCH92sY+YRbaAFv8ps2m5jHnLos3IzBBYUkHMp4touEwmK64PjAlhyGXiGbfcMyfe72QIKZU9MmvX1gK5CTDaUP2lhy653kNe/z9K+Z/U8jImgW5eLTmu/uGSq6aYCO5zqn3H7TQznqMBkzNKiCgEdrfBggq3I60RChbpyqDgdWQ+H7eyDsWwDdjMVELmn8ggi9GgX+GaG4bMzZaoFXbKPLGEqgEGACZWQTMdOnggC9PB2zii5IzagrMMu1f1G+RGVsc23bp1P+IMEtoQXlYhSEvkh7QbwggZZZRgSNbJ0rQzjHx0Kz47n+LpEa65xIR2MJ3i7pcmGl/buKH7hXlWrS6XiFbO3ilYFjU5qqu0hFBWGyGgjM9Kibatyvd7pnhfqNd/MAjaHC0oCEwqijwF6h9viEDn5c2Xo0AToJR2zpViQIeLxCQ+r54MwLtiNmliQDXXh5vRkAbQntkdpTjBOESADoaHxakgomjYLBLczrjR9UwBrRW6gpwLwTPAojGak0KTB87iOKkTs7gpYEZQ2YOFfikkoAkrJ+LKOtmGjPxU2g5CsqP+Do+UWJU68QPhpN/2FpURVMi+vT1c9dM8t1RQgeZE2aYaG/sqrrNhJQUQjrHf+A95zYio4+4em51IHSn1HcL4ZnAc3cOdrm/Gr+R3Me8hw48w07DtgO8+DpzAKhIbQwbKqhwa7rSoHQJggUNx/rsmH3JCmBrF4we+DAuElHCR1PAh5AXGDjeIGp+mJNUwDT1fiLniWBqUD5oGFeLnC6CiURbGTYi5sBOo2Pe2MBBBYSgBIWGaLUoqzGkmXZMv+PrUeAfGmHqpAB/oJplmMdZAwKziQrI0s7AZgFNx87aMSPLrJr2f7iDYNfMZUVNiQhsVvZu7/aiwL5MsLp+t+6Ke8m67IyTRRc7f++9z21UoFDhZSI2yK0pmEm7caDb/boKd0QgNfa5f9j/jEL3ngF+a2MwaAjrQ/zPaICqb5cLsIYpzS/HaAFBKKifIgFpSeDsxyeAcF0c/5h5BP8RV0IHY0Tn/PgjaKxFF3OOFygP1p8xa5M2sHKvtAvWoqEtMdKjQd4rwkQGoRlZ5pLCxhMx+0SksgXXwFylQXMPSf+OJTLqlO9bEHWt5iQElJyVTAP3jHajYIBKmmUK+rkSI/0ELTt5D2mA5HUw59lYMK7AKZ6rCRfqzB9dPqdW8sM58mXL3CMAGU3trrrXi3YEpMVP7QnWBXYddt38VXICtKJ1qlMBsND2lsFu95OheK6Oy5RKYV70ZzNQsA1mE3Dalu5pPQQjl/oNqCcin7NAo7DEix1vy6MIIDM6EcLggo+NTktwJ2aO+vK4DgtEjxexPpqJAqEVOFQhTnwiRbQJUoHgX4Hc8a1AVFlAo7IOeTvNDojwVi0J34o1hQCOayUyNP9kMC9xQAqehdi3ZsBXpZopnROyybJwMA2txoyfh+dvBsgarTIJzoepltu/CmsVLyj5jwm9W1swFfTwXbuH3B49lchWkKuf+549zqPwIxy+Yv5dUhI2GKowbhXN6LqBHoIfuzzPLXvswIXtRlxTKFZbwO4e6xmUZxOo0NYxeptIWgYABZ3P+kvQaNR5WhRoDtSrCqNuY4JCgBZEuAD+DEyciUrpkgU6GwRMRDCaG8G4TCtDqsQEZREUz4PvLSsGC/8bZKWAOOzaNsw8tEgAaeEXssBXqeSEnyWpUVkiIo6nSMwaEe4KzKO89DPU26XxZgTqlsDfImAJjV17CemxfCo5YzkChYno0OVzgr6wdI784OfN9DRO+obumjtk8oDr89yOnh+tMWmg5nlnCBOoU64wyGX0I9GKSOC2KvC2970okrkdMBpYXwWEZhvLhgZmgOwoTdh+M+ADUeC8b1XDpEGj3luxUfSYJajq69MavDTQ8ZhRw3RkqhmCoTwhJ1K3sI7ORqQDfGqsGrfhHwoGOWsu4SfS9VWAKXElbMzXpGYCYXM/AC3VOqxpp9bnVMQsYwbLkiZE28y5TVCuXVmB2VUEnNe6cCCiND/lCBQmInDkjUcLDbhjhQ8K+VNeXqq5T/Stddv6wRHv3vO8RgEeuWLew6J7EpnZFn5ZLbmzV012D1dLxz150EIdXVoBBWTVZxrWaGZLJhr4ZaxpxYhGo8gTO+oBfAhpMzxZYDYMf4UVzHBLRszIYQY1a2eYImqOgHaXntjfQQjUcztgYTOzPCyKJbMAzmHMS+uaICAya3Eq0/iqcTNu2+UYdg1alr/U+lPQgPS50I6sFZCn2Sgw2e0CXPxcae3BClqa9YXRd/PMUYs0v2RTtERE4BPXz7vVCzMTJ43Ai4WMju5bu8VuXdULp+71+cb1pNV9KQzbjykh1mjZ6kk9d1a6Fq76wBmtmlWMgjQWBb/HFt4Qgf1uVW8FPppmYsGSj2TMTx4YjDBfrBAPg3PTkhEzZc0iuNEK7OCWpmkUgdVqIaIs86pVYG4xcNp1c5BDWr4ngGmFeafQ+B3av5pWEG+WtgAJ6kp6JgWUfNCOdMAhdQd+mTzgcmDAsCYzxJjWFpLScKfUYbM5jDlaJqIY4fFSy/1IEHr9gfP6pSX112S7WpehwPVX5BPZ1Av7P9K39t4ZPasbU+Yfu+6YtZ7nfVQ2l/jy+3XiIpHSbkjZhf1dRrpFekRWyTWuWdPz66vXdidzujQDjZTRiE9Fs+Ct9RVM2Y9VdPRoGxvlyWgO+SjoOJg9SaethZKaAnJtp23akAy0oWQCu9EA4rCpVEBWqg8bpAgw9SADtArVvAkjGLaw3AAHtP6NskDbpDxsGeIHtFpkGphdG6tFxrQzO9M8pmiLiEL5p36idZ/xVmNfNux3HquVwj4vHDbSiUYUmQKWDRQjjiUO6K48wNq/BH6RPCxJEHhmgxipsA1NK6KT2zfk4rjEH0D8SRHheXGYKhi5WzHPskA2RjshgabCLB4dKg34RWx0LrNFrWpFlIVdKIoWY7WSsUByAkCbeBqsD47nx7yzGudd9c80oCHaaX0IiMHWPt/36595sIMUZYxDPq0dZInVAFlMPW65wfIKMhMX7bv4ym7PHch0fY/YaaKdRFP38bZQv3yyFo081Bx7KvDd7YNdK26oTDngrts+GjnnLpqxeMsw9L4hw9Y7yGdNXmvNbx1/ioRxAn6m7+0+f+fY88mt3Vu5db9J1VlTvnZCO2R0gYhdG8NMCvb8aFR6omZZ36VcqRiPnNVciyA8jdLFsZqX6jMNhFOov457ZrFjWrxPMmc1o3xWYnpAoCDaUXKWh85oI7sV+GM0VxEjPf4QEpMVBR2d2SrNskkogcayQFL8PRnM2Cpw6LNsRsHyhrS8zwDy4Tl1sGdiBYLVVDmQhJ25TAJzVpdFkTuJGSlcIjwLYRCUf3Lq34J2RjtU8scMxJRspW0zUHFtfQaICX9kHvCl6eQU/iLIK490I7SsEV0wY8ksaa02bD8XjwkJXbym92/fqXSfriQE5MIHOS9sNd9tAy8uB272lLUr9+kZWtAmCQE6lx3laPzkhbE2dVEwghOhC9lkqexjDRzMGhVN2ebFDmXhkvonoPHSAcYilIE6IVDSrihnNTodOU3rYqZPTQ3aJQ26KHCsQvTWkYvpouB8kAbPWjQfdBKYJTZIj/JOS8yvQAOxKWUoV9W4WepkfZRpIC5LBzMilBkgISGAFtts1hnN2K5AoDxaHWCJlrbhBWjMzRKgtYWWiOj8fZc+rxa6U6R0dFTPBCX4QLXklq6aXHuoVjqvEqwb3b4wc8kL5ML/KSdJpgwohNd1Vd3cvjXhtqXg4i2vPLHQ9GAGmIImoZO1tWF81GrN2lgEBMcR4MfUZav+qnbBiGtX2qOdtOP8pwxsABvxRHa6eTTAoQpZ2ulvOhSBb8m6R7OzjZ7RG221yKDAMgxSUmhZMLgkSZk2i7YHARAP10o94bwlV5XNaglRoC3kwS6kpo1o6g7SbeTFeQH8W+qMpq7tFDp1naZVWkCa2k+Z7SN4s1UwmNjF6hC9dQWMGVoiomrojpQeW+jNGj+olN01Az28ggjH21fuuONTjc5eDsOzpIRa1hpY5T+1e8jt31txU/zwV0J2Rd/hlAcckKicOvoApjxRa2mwTF2mES/xGYxykBajOWkl0r6XBcwqNKhWBNNAHYbcl40pYcQrFFaRAmsioK2MpS+A0RsCsNO6dOjkq6KI6+KY1gOmHaYzy0WyiJEpdPIeo8VquaCpkD0xyxH8EhECLBntqXvKNZmqRIHJi1ZHZyTBn5Ii8VEE6tkBLA02sBFtRjUa4oSKaCc6yELa6uuhfJplisDBbesQ0ygZOFkUhAg0LBmBfXvJmKFwxzlnxpLXVQLv7i4vnITvJ/IBiSR9RDDbz4bK7sdCRIPOCyqhe++K2z7dSDh22cxFu5dC79tDcm31+xTxEVH6b+2uuLd1R2+NDcsu/PB2V504Wh+Lggaiid/TRmAaHoRK46GDQKJZRIrTFcd3coFf0kfUDigORn/WI/HerI+LAFR94lM0EK5V8DYJiFenbPE9YKbaztKqjygJonOJXdKYGEZpytuue6Ps8VklI/ipfrQqgiN5VkwxzDw0DDuY8j0WbTIba0mZa9IG81KeUMdEBRN6gJnNDByDTbK+uD5+HuuMzgIzZPilkrN5lEWRtDi0GeswBmhSmF3W5E0CTZnza9mQsQLibAf0DUhbZ98oH7btJIfF+PmIPj9rWWlt4J0k9J+VUDvC6sBz9wgB8RoiWoTU4J2D/rrgrEtnLHphOXaMttQZpwjB8cLHNwsJ8UM594pazaNTjxVgfJyOVHzayIGWwDIIZi/ooGkkRCoR7gnTbrRpSJtBzTIFHbQVx24SkKbN8oemZWdoxgKYBpZgIB2m+W2OHMiJGTfSjloNimpHk2EZCw5t4qa4R9t+8cmgPWHOJTVD6pf1TqS+yPInUscEx1LHrI5n6tu2U85ByAf3UISEAOaVzXoI6Mh5JGKBqa0LSRUE4uY5qSFdHOFaNgQopqX8KAqe2w74aJ46qTBmKEREz1TDA8UsywreisBLGdGEHq7F2qfU4KNiSp18yy2fhpMiSMubIX9lWrAw+oSEpvYMuZ3KDe3wSSHEU7e/5oR2o2azwH1iokA4jFhoHdjhNppWwc2gLWBOoCYz4tCAMTnwdaC5JMFISsMcjXAO7lOjbdlHMA3bNcsA98t0u56P506+hFH/ptIqKDN8Q4zweg6ui5Zko3Z5DvLWUJ4QO8/daEMJQFbUAa/8pnNAdGkLazGhqCcIjNGc+sLk4LdcL83E4hjnQgNBm2KAwRRvxQ9HG4UEbLlBJDbXcx4IL0Gjsr+HDPPaPtoiZr/9flI7bxWYsJQV54MYiSjP8u/qdREGh0JoqpmcNn3ZFtIOCM7aqUe+jfk1zDSTbWryoWopmqZnmzd+SAv77JduObqRf0hMsu2ESn8urXHzxjQ8IttZptmmcq23iBbEK7DpdWIWBqJRnVnyw5N3vPLEtMYz1kDzYOYBFZ3ZKTRCiIlKwVRDE1kfVpQ/l8EIzEJT4lgwcbQO8AFhHmAeUh/tAK0M/xOmKfWLVsSMIR0dAoII0GiSWkkHY4ymRPTZ6UsXVJz3Gd5Jn0ZEvAf/zzU/0oii9+TLbyqhd7+Qybsuv/Xoxsrgq2cuusLz3CERyRQgoq2FfHbuqkVkRFwSRFT2wntLntt7p6tOaHnBbAcddLD+Itc0O3P6klevDr05wgsjwLE18h/ZE2PPTQNDctKTLQl9ZcaivYRMbAxGJrih7UoxCU0SAjIQDcg7rUNCHXTw3EMmEZ0//azy06G/QEyptOCzSBMilWvyLa1CSTeX/KAxHXzlfos23cQPSRNJLEYuRNtxLyrV3A7l2oiIOrnMzdXeUpH0Fh100MEGhkwiesJ1HzwQeiPeQoDuw48SWpDiMTl69oU3zWn4b0QT+kDZa+6g5pzbijmGSZaClUJEC153xfwE7XXQQQfPBaQS0bx9lj3/mdAdK9rQsFQA+GqYxUqlIIEcv/T8m2c3Vh1/febZO04KXb8czyQ80CVfeIEQEG8ESTk3bxW6sNsbaCVmpYMOOtiAkEoQ0vE/tDb0hsWRQEBbiuQsQvqx7wIW5kW46n0LvE189/FyYsV9Ekz28xYQnOAZuF/Y6aJXX72gow110MFzFCOI6IRpy3ZZHXiN8HuIYgsvcC8pBUyfxwdHYkBOdPbim+c2plF7hya/S8jriPpuKtB+ICB8QxlAGzpl16uPfy68c6yDDjrIwDAiWrbvkt6nQ29pxXmRScYfty/X3CtFcsgCQlnh++uiNy+ItaGFcjwzYReBGmGYc9IYt4e1HoLVOuigg+cwhhHRb2uld/4j9KJUBZhgrHLfUTShJnTxpO/CJaffMKcROr9Dre8Toj2xFGIE0KkISWb9WBM8HoTu9LetmE1EbgcddPAcRoMNluy7tO++odKPqqG3y6Z+4N7ePeS2FRKKghSFPURLYiV9RCDsD8o+gYgEO554w9xG7pirZi5++QtLtR+JSbdFHLAYBynyXYIe/x740TYO6nq0dLRNkGR8LP4UIly0x/Jjj41Ouv4A4ubd8oToW3OR1BlE39r8MyzIJCqYVA7yxBGI4mU5A6uqNSOhpg8lI59+DxDuQOoI1oDZ9VF8lwWnwwYRA+KscOxHCq0IAwvrplgqwWrwvHVKgCUQuhqd++E5iWC2EeRkYGDtVxIsX2BJAtfUsA+aAZkBaGssDWCMY9mBPR/HyZhJebE8gWcmNtZCn5ulGkS67yySBNHQLPxl9TnrxYi+tilOOE698B3uketlgSU+dr0bkdfUB7+lLBWUM0tuiLIn7QneDFvu3AN1a8udZ2GgTq5s5zjt4fsiGA34aTVdCd+jfB8UsfcFSFlDehXqhLbCukPaIsssAPeXzEENiBrnVdyUK/WR9sYV1vRp+hILVhY0a0uFQeOIcPje/WesDPzjX1YO3Lt6Km4LIQji6JsQ0b21wH/rcTfNiVZpX7jPoq5deoNlk73wqEb0tHwXIno68KIIbKb9lWxyiOhnJeftuefy+TZ96PoCFgBy67wTC+CMp+FwjMavHYg1VZrvSIH5ypo9cjiTPweQORBiIlTiLg7UsUyEZQ2kF7G5Z2hsvMpG1/oQGsEiSm10rCBndThrrxaI0HBpNHQKSJRV9Jyb6kkDgwrXZPEvSyBY4gIRsZBS1yyRZIx1dcmGC0mQYoOUGazNopNCOqyGh4A4D8s0eNki96Cgs3J+7pX0rqxza2RsqIPy4rlYmMq1SRGSzDbA+fFLQgLcC02YDq/3SVmxto164r3smjiMlw/yrHQsyBdwHs6noK9QP5yL+9DvkTKGDAJkP2DQoV3YcodIWDeH35XvUe4QA+RMWWi9Ae6bdsP9MaCQ5oY0JdwX7Qxi4pm5hi47Yf0c3+O+yFBA6hIGRupPs2Ny37hJLIECFgkTm0cmBwaOtPeX8SYWFgxbQgcMFjznmCAaVT82rX+nJwP/Iy8r19z+vQNum/RYniRW+V54tpIQeEVPMHWKFw57GAw7SOihWsmtFXIqAHhu4XpKQoCOZRcAQwyMljQqzRBIp6PR0xkUNEgaPivOSdQPcQFIhIqGnDT7HekqIJLPiCQTYKGh0PghLoRRjUWJuk9qEDoW12EWk/og3Qadm9w6nJOOkQcaPrmP0FQYEWnEmnJEgeaj11ThOQBkRBoKSAUSUtAJafRkOmD0T4LJDrQEnh3NQoHmQjqJb4jogk/KIXl9m/aXVe7cA/eStkCTMtHfQWqQDilW9FjylcwQD7l4yNCgmUXJwnCMCL+HhEhNQi4kUm5ouUMUPA/k3azc0wDxcF+0CTQXNEbNCUR7g/RZHAyRf0yErAwQVvJ1UZSFPptKUf8rml7ytwxoYwb/tOlLpjwd+Kfs2l3d8rDJA25TX4k+H0IpK/ywTMOIcMn0Jd19vjtTWk/DQc2ZnhAS+lW1HLFLEcjXbh4Iq43zrodA7WUxLOo3YNSBcBiB1C+G6cIT23QPZLZDo2BlOR0SMgF8D+2ADsaoT/nRuElrmvW6GEZ6FX6H2m6PMYqS/gHtjU8F90k6DlafN0Ok0IpADjxHkji4b3tNREkiD5g8lGEy5xDgepeJ0HltJD6mB7mu7cv70q6PKCgTyJjcPWRUSMKWmd63PY81mRTUMRkEIBUW30JKeh1AuaPhkPPbljsmMZ2eem0H3B/3BLGj9WBiAhQJNCCuqeYa5UKd2dQdINlGsp4xC8nfImMGf1VQmjqtt3LA/r2D0aLWIvA8t1pK4NzZN8xu3MyreqrHbuKFqJQR0Kl+MxTnJsI8K4IwdI+Eobdo1rUnFvzFhIAEYjQGfQMnmg+jFn4APYbGhO2t6+1IzUCeb0Yp1GPUciUiwOjNW0YZQRlpaORkHmwX1APmYtKXQEdHxS6UZbMO/FoQrDUbAdcgHasVRuRmoM2QhA7zQpP+W0CWdCybpwiNAh8SZarAj5W8fiPbQx286hhNgIRukfY/BqB+IEayQmK+of2oOU45EdCbVu68prqVck8DWQi4tpqk+MTI94WWe6EI5jCmvtUmFaSaTZaXfQNsHrgmL2ZQwXebGx/YKvz3Thrcb/fuobsneyEd6bvCRdGn0EJd6vvhur/J53EV32/YjLfPWrTTpl54lPIY9E2CtAeqpZYoV/CF0AVtv3TxWQIcS2dBw8G8ovFRFvg0tGIhJ2xotXFpQJhLaqqhyvN7m7kPTYGRE5WeEbdwLpcUoE1k5TTmvFm5ZBSYHphIkBmmKPdr314BIFlyNlux7z3PA+2IzoSfJgnuD1+amll0KkxKXoNsywRCS17f+nQUrHPEJM7LztgKGDQYMNCGbhKxCfTzyp3f4YdqFQxqtBv8iGizkDgDmYJ7wdTFRUB5MmBQD+QKtyBXd7K8iibwo9z5rgrEOqbKQkEdKBuX77e0+7WlyiV9XngITunHa777npAQb+9oOKPlU1N5GIf0ur/Hx35Rcv5bDlwxjwpb34FjEgchIxAJxVD90WIgJEZvXvuCw1ezHtJA8LHQcKlAfEh8j2M4nhVoSZwXzQq7vAi4Jj4im79bE6XTWZLAPMBHha8hDTiruQ98KzRu9smcACEpIEpGXvv65CRwZEJomjuZZ8b3xDOTPA5ygJCY7YGE8XGgNQB+B/FRrsyQQUIcwwEMyIHNqGwTqlng9MWMU42LrKCYe2R+xBeHNmcJA1MVHxpmdhHzEsJBM9Y6VVDu9CmIMwlMURKrUe4MVDwzPiabS4mBDJOK+8OBT53y3LQfygLfEJq1fXmjBZo3s4ncF3XPZAfEcZcI96k+vCSaOavR1tNmzsYMo1ZXt/eGdpvih9jGQkKe++Zgl3uknqWxBQTOC0/ZQEgIMJpgGmjGPhQ/Rg2mVzlGudrE53QCCAvzAk2ADocGRaOyg0GhWYICYASlsSenbLkvOltWQ1bQCSACzA6EDoZGN5ZglofOkTbzQjlhwkIOjOwQOjNQ7YKOxqxhHnG2AuopTSPIK3fIkecCkA+ElzRNIV3MOpuIDXOUusD8wgzDd6iTIpzXth+m4NF8qDPaJCbVBoFREdGl+y7q27oUfEGGur77xQz76tpe9xfRhFpG6K4OQi85Xbs+g8ZCR8LuZlRXYMowtUuycfUTMMMAGeGQpkOoMMox2ukU8liCKWBIXQkE5zraDTM6zILZhPXNQAdAI0HoKApm+Di3FX3HGp88M5L1Hiw6M9oWHTT5HTo5miIjO7NA+GOSHR+FOnl9a+paQKxoJLwSaDxBuaNpUe741ih37otyZ9ZUy504NAgDfxMDGt9jRgwfG/0gLa82z0958FsIDw2GCRO0bwY/HNiUI9dBG+J7drKE+k+Wl42jghSTf0fLf1YwKiJ6fU/tg1O88JV3Vbrc9QM9bm3aGNEcf5UWecHBK+YnA9jWd6Ba88SovQo0JTofnwp8QZBV0tTCpCLw0L4nilGSUa2VkkQTw2a34BxoEoyKkCIEiVZBY8c8wazIAvVgna3cC6o509k4KlH/+TuEhk/Lis6EMSJjnhDzY3NIQY7WbYiWwywZHS+pDTLLBLFQJmriKnheyC55fe3o/CapXTOTxawX10qWL+dL6/x5oNyTLlBb7mjKlDtmKH5EylBnQbk/nPVoaWjItCHedMusGKSloC7sfXGfGsMEORPiQr1gwlGnaNq0S6bvmYHV+yPEBrJKlpf6kahPZiWTf0d7xhfXCNEZL1i1riX84IAzX7WVF373tsHurb8nREQrGuH7MZ9ZPqKyF57UUyqdeejydTmMNiAwKiXzGWtEsT2e9j1F8m/s0wBbIea889NhGQ1ptJgEdJZmyDofx+kYdAi206C/s3/XY7Q3RtnkPfBdOleSPBixsfOz7iUN9vpZv6NjJUmE41y/6CDAIM6zZHXSIuVOeaDVoMkwUHF965AHec/Bd+k3OMHRrCgvrsfx5H3x/SRsmaf9XQfGrHsYM1AQbeHu/c+84s7B7kPuHuqKiIX81W0Q0a/Kfjj1iBXHWIddBx10sJGhLdOsf9/Fb//i2kkzMMlGAcKLPtchoQ462Njh3P8Dgc1h2rA+C5oAAAAASUVORK5CYII=)"
      ],
      "metadata": {
        "id": "_m1RAdQnk74w"
      }
    },
    {
      "cell_type": "markdown",
      "source": [
        "# ***PHYTON BASIC***\n",
        "\n",
        "\n",
        "\n",
        "\n",
        "\n",
        "\n",
        "\n",
        "\n",
        "\n",
        "\n",
        "\n",
        "\n"
      ],
      "metadata": {
        "id": "WfzXKjs9lCAO"
      }
    },
    {
      "cell_type": "markdown",
      "source": [
        "**FIRST STEPS INTO CODING**\n",
        "\n",
        "\n",
        "\n",
        "*   Print Function\n",
        "*   Matter of quotes\n",
        "*   Basic PEP 8\n",
        "*   Comments and Docstrings\n",
        "*   Naming Variables\n",
        "\n",
        "\n",
        "\n",
        "\n",
        "\n",
        "\n",
        "\n",
        "\n"
      ],
      "metadata": {
        "id": "BRqUNXQMlfbO"
      }
    },
    {
      "cell_type": "markdown",
      "source": [
        "#Print Function\n"
      ],
      "metadata": {
        "id": "nNvCwIrExVLU"
      }
    },
    {
      "cell_type": "code",
      "source": [
        "print('Hello World')"
      ],
      "metadata": {
        "colab": {
          "base_uri": "https://localhost:8080/"
        },
        "id": "uxpbUJqPk_8u",
        "outputId": "b9a26f25-a765-4e1e-ed6f-b63857983f03"
      },
      "execution_count": null,
      "outputs": [
        {
          "output_type": "stream",
          "name": "stdout",
          "text": [
            "Hello World\n"
          ]
        }
      ]
    },
    {
      "cell_type": "markdown",
      "source": [
        "**#'Print' function returns the output from our code. It helps to understand that our code is working or not. Also if it doesn't work, Phyton signs where the exactly our mistake and what it is.**"
      ],
      "metadata": {
        "id": "jOsZfCWdqve4"
      }
    },
    {
      "cell_type": "markdown",
      "source": [
        "#Matter of Quotes"
      ],
      "metadata": {
        "id": "8UgM4iRSxeF9"
      }
    },
    {
      "cell_type": "markdown",
      "source": [
        "***# A string text is surrounded by a pair of quotes. There are basically two types of quotes we use. Single or double quotes.You can use as you wish but it' s important to use them with ordinary.  ***\n",
        "\n"
      ],
      "metadata": {
        "id": "mzyn1cBEyGub"
      }
    },
    {
      "cell_type": "code",
      "execution_count": null,
      "metadata": {
        "colab": {
          "base_uri": "https://localhost:8080/"
        },
        "id": "bs14hTi0k6pz",
        "outputId": "cc08fec9-2eef-4974-caa2-4dee8a45bc46"
      },
      "outputs": [
        {
          "output_type": "stream",
          "name": "stdout",
          "text": [
            "I would like to learn program language\n"
          ]
        }
      ],
      "source": [
        "print('I would like to learn programming language')"
      ]
    },
    {
      "cell_type": "code",
      "source": [
        "print(\"I would like to learn programming language\")"
      ],
      "metadata": {
        "colab": {
          "base_uri": "https://localhost:8080/"
        },
        "id": "2Dck9wOIzBQ0",
        "outputId": "38dd6b6b-3e62-40a9-c46f-7ca4169122a7"
      },
      "execution_count": null,
      "outputs": [
        {
          "output_type": "stream",
          "name": "stdout",
          "text": [
            "I would like to learn programming language\n"
          ]
        }
      ]
    },
    {
      "cell_type": "markdown",
      "source": [
        "**#I mean that if you start with a single quote, you have to finish your string with single quote. Otherwise it gives syntaxerror so grammer mistake of Phyton.**"
      ],
      "metadata": {
        "id": "lB8SyGw2zP-d"
      }
    },
    {
      "cell_type": "code",
      "source": [
        "print(\"I would like to learn programming language')"
      ],
      "metadata": {
        "colab": {
          "base_uri": "https://localhost:8080/",
          "height": 130
        },
        "id": "VktuK_nhzH-L",
        "outputId": "d5414a8f-a63a-4430-9cf2-5aada2099621"
      },
      "execution_count": null,
      "outputs": [
        {
          "output_type": "error",
          "ename": "SyntaxError",
          "evalue": "ignored",
          "traceback": [
            "\u001b[0;36m  File \u001b[0;32m\"<ipython-input-4-b2a98b0de55c>\"\u001b[0;36m, line \u001b[0;32m1\u001b[0m\n\u001b[0;31m    print(\"I would like to learn programming language')\u001b[0m\n\u001b[0m                                                       ^\u001b[0m\n\u001b[0;31mSyntaxError\u001b[0m\u001b[0;31m:\u001b[0m EOL while scanning string literal\n"
          ]
        }
      ]
    },
    {
      "cell_type": "markdown",
      "source": [
        "**#If your string contains double quotes, you can use triple quotes.**\n"
      ],
      "metadata": {
        "id": "T3kt1V2zzfBP"
      }
    },
    {
      "cell_type": "code",
      "source": [
        "print('''He said that:''I would like to learn programming language.'' ''')"
      ],
      "metadata": {
        "colab": {
          "base_uri": "https://localhost:8080/"
        },
        "id": "ZF2Ao7F9zh_4",
        "outputId": "7922f1b4-1f1b-4c15-d3f4-c2120f40f140"
      },
      "execution_count": null,
      "outputs": [
        {
          "output_type": "stream",
          "name": "stdout",
          "text": [
            "He said that:''I would like to learn programming language.'' \n"
          ]
        }
      ]
    },
    {
      "cell_type": "markdown",
      "source": [
        "**#Surrounding the expression with quotes makes it in string type.We will see immutable types (int, string, tuple, etc.) in the next lessons.**\n"
      ],
      "metadata": {
        "id": "G05pUQ2XszaO"
      }
    },
    {
      "cell_type": "markdown",
      "source": [
        "# PEP 8"
      ],
      "metadata": {
        "id": "XkVCa1-r1Xlk"
      }
    },
    {
      "cell_type": "markdown",
      "source": [
        "**#Pep 8 is a set of instructions or recommendations about how to write your Phyton programme more readeble. It's like the grammer boek of the Phyton.Let's look at the some of the important PEP 8 rules.**\n",
        "\n",
        "1.   Limit all lines to a maximum 79 characters.\n",
        "2.   The line length should be limited to 72 characters.\n",
        "3.   Spaces are the indentation method. In some situations, your code works even you don't use space but space makes your code more readable.\n",
        "4.   Avoid trailing whitespace anywhere.\n",
        "\n",
        "\n",
        "\n",
        "\n"
      ],
      "metadata": {
        "id": "aA4mY0u71c1u"
      }
    },
    {
      "cell_type": "markdown",
      "source": [
        "#Comment and Docstrings\n",
        "\n",
        "\n",
        "\n"
      ],
      "metadata": {
        "id": "4B59T8v_6cBJ"
      }
    },
    {
      "cell_type": "markdown",
      "source": [
        "***#When you write a program, sometimes you need to explain the role of the line or you can make your code more understandable for the reader. For doing this we use comments and docstrings. ***"
      ],
      "metadata": {
        "id": "sGDjPBs07OGh"
      }
    },
    {
      "cell_type": "markdown",
      "source": [
        "**#In the real programming world, comments become especially important as the program gets bigger and more complicated. Without using them, things may get confusing for other developers who see your code for the first time. We use # comments to make our code readable.**"
      ],
      "metadata": {
        "id": "PfobTgbD8ETO"
      }
    },
    {
      "cell_type": "code",
      "source": [
        "# This the first line\n",
        "print('There is no necessery to do it')"
      ],
      "metadata": {
        "colab": {
          "base_uri": "https://localhost:8080/"
        },
        "id": "yw0tme4W6bC5",
        "outputId": "91cce948-b5d9-4570-d112-aab0a9f5f64b"
      },
      "execution_count": null,
      "outputs": [
        {
          "output_type": "stream",
          "name": "stdout",
          "text": [
            "There is no necessery to do it\n"
          ]
        }
      ]
    },
    {
      "cell_type": "code",
      "source": [
        "print('There is no necessery to do it') # This the first line"
      ],
      "metadata": {
        "colab": {
          "base_uri": "https://localhost:8080/"
        },
        "id": "OmYT8wvJ0hmJ",
        "outputId": "500d6de4-9c69-4d32-d317-2742508266a8"
      },
      "execution_count": null,
      "outputs": [
        {
          "output_type": "stream",
          "name": "stdout",
          "text": [
            "There is no necessery to do it\n"
          ]
        }
      ]
    },
    {
      "cell_type": "code",
      "source": [
        "print('There is no necessery to do it')\n",
        "# This the first line\n",
        "# This the first line\n",
        "# This the first line"
      ],
      "metadata": {
        "colab": {
          "base_uri": "https://localhost:8080/"
        },
        "id": "EBNvuKt89IU7",
        "outputId": "7b6be881-cf73-43f4-c572-2f402502f261"
      },
      "execution_count": null,
      "outputs": [
        {
          "output_type": "stream",
          "name": "stdout",
          "text": [
            "There is no necessery to do it\n"
          ]
        }
      ]
    },
    {
      "cell_type": "markdown",
      "source": [
        "***#As you se Phyton ignores the sentences starts with comments(#) symbol. By the way there should be a space after the comments symbol. ***"
      ],
      "metadata": {
        "id": "wgQ9N6S1uT71"
      }
    },
    {
      "cell_type": "markdown",
      "source": [
        "#Naming Variables"
      ],
      "metadata": {
        "id": "87mE8q0V96wE"
      }
    },
    {
      "cell_type": "markdown",
      "source": [
        "**#Programmers spend a lot of times with reading and understanding code written by other programmers. Giving variables makes your code easy to understand. Variables helps also to solve complicated problemlers in Phyton. But you need to be careful while giving variable names. There are some rules in Pep 8 about this.**\n",
        "\n",
        "\n",
        "\n"
      ],
      "metadata": {
        "id": "_70hmxgr-OTC"
      }
    },
    {
      "cell_type": "markdown",
      "source": [
        "1)Choose lowercase words and use underscore the split the words.\n"
      ],
      "metadata": {
        "id": "zY0cdXfD_G8-"
      }
    },
    {
      "cell_type": "code",
      "source": [
        "price = (22,44)\n",
        "low_price = (12.00)"
      ],
      "metadata": {
        "id": "WHkdIJz7_V49"
      },
      "execution_count": null,
      "outputs": []
    },
    {
      "cell_type": "markdown",
      "source": [
        "2)Do not use the characters  'l', 'O' or 'I' as a single character variable names. "
      ],
      "metadata": {
        "id": "pLTAtlDc_G1p"
      }
    },
    {
      "cell_type": "markdown",
      "source": [
        "3)Do not use specific Phyton keywords as a name like sum,max,min,print"
      ],
      "metadata": {
        "id": "URP3GnKl_v4X"
      }
    },
    {
      "cell_type": "markdown",
      "source": [
        "**DATA TYPES AND USEFUL OPERATIONS**\n",
        "\n",
        "Basic Data Types\n",
        "\n",
        "\n",
        "1.   String\n",
        "2.   Signed Integer\n",
        "3.   Floating Point\n",
        "4.   Complex\n",
        "5.   Boolean\n",
        "\n",
        "\n"
      ],
      "metadata": {
        "id": "xr-f8dWiCi2E"
      }
    },
    {
      "cell_type": "markdown",
      "source": [
        "**#Each data has a type, whether constant or variable. This type of data defines how you store it in memory and it also describes which process can be applied to it.**"
      ],
      "metadata": {
        "id": "G2v13SYLHFLC"
      }
    },
    {
      "cell_type": "markdown",
      "source": [
        "#String"
      ],
      "metadata": {
        "id": "FQzx-j6wHjyV"
      }
    },
    {
      "cell_type": "markdown",
      "source": [
        "***#If you want to work with any textual characters in your code, you have to work with strings. The string type is called str. Basically any characters numbers of textual within quotes is string. ***"
      ],
      "metadata": {
        "id": "7gnMQV92H05D"
      }
    },
    {
      "cell_type": "code",
      "source": [
        "x = 'I am going to home'\n",
        "type(x)\n"
      ],
      "metadata": {
        "colab": {
          "base_uri": "https://localhost:8080/"
        },
        "id": "brrrFbWw958G",
        "outputId": "f13e3be3-f976-4a30-a0f3-e50f64a23bbf"
      },
      "execution_count": null,
      "outputs": [
        {
          "output_type": "execute_result",
          "data": {
            "text/plain": [
              "str"
            ]
          },
          "metadata": {},
          "execution_count": 10
        }
      ]
    },
    {
      "cell_type": "code",
      "source": [
        "y = '456'\n",
        "type(y)"
      ],
      "metadata": {
        "colab": {
          "base_uri": "https://localhost:8080/"
        },
        "id": "u6h9HrxO9M2s",
        "outputId": "6fbc648c-d5cf-475f-84f4-21c2c349deee"
      },
      "execution_count": null,
      "outputs": [
        {
          "output_type": "execute_result",
          "data": {
            "text/plain": [
              "str"
            ]
          },
          "metadata": {},
          "execution_count": 11
        }
      ]
    },
    {
      "cell_type": "markdown",
      "source": [
        "#Numeric Types"
      ],
      "metadata": {
        "id": "cQUH14b4IxUE"
      }
    },
    {
      "cell_type": "markdown",
      "source": [
        "There are three distict numeric types:\n",
        "\n",
        "1.   Signed Integer\n",
        "2.   Floating Point\n",
        "3.   Complex Numbers\n",
        "\n"
      ],
      "metadata": {
        "id": "uDaUFu3YI2aY"
      }
    },
    {
      "cell_type": "markdown",
      "source": [
        "***#Signed Integer including no decimal point and it is called int. Floating point including decimal point and it is called float.Complex types are written x+yj and x is the real part and y is the imaginary part.It is called complex ***"
      ],
      "metadata": {
        "id": "FcoWGe9zJLgX"
      }
    },
    {
      "cell_type": "code",
      "source": [
        " x = 24\n",
        " y = 2.4\n",
        " z = 3.14J\n",
        " print(type(x))\n",
        " print(type(y))\n",
        " print(type(z))"
      ],
      "metadata": {
        "id": "QQ0cTR-5JKuE",
        "colab": {
          "base_uri": "https://localhost:8080/"
        },
        "outputId": "3fb5d350-d003-45ec-9267-c1ce40e2b2b9"
      },
      "execution_count": null,
      "outputs": [
        {
          "output_type": "stream",
          "name": "stdout",
          "text": [
            "<class 'int'>\n",
            "<class 'float'>\n",
            "<class 'complex'>\n"
          ]
        }
      ]
    },
    {
      "cell_type": "markdown",
      "source": [
        "#Boolean"
      ],
      "metadata": {
        "id": "WCuHs7Mkz6ME"
      }
    },
    {
      "cell_type": "markdown",
      "source": [
        "**#Boolean types have two distinct values: True and False. They can be True or False. Boolean types are called bool**"
      ],
      "metadata": {
        "id": "3U3ATe1y0BHx"
      }
    },
    {
      "cell_type": "code",
      "source": [
        "x = True\n",
        "y = False\n",
        "print(x)"
      ],
      "metadata": {
        "colab": {
          "base_uri": "https://localhost:8080/"
        },
        "id": "GQKMUrOj0Apl",
        "outputId": "f9d5ed3b-c5df-4e1c-fd8e-a2d981133d8a"
      },
      "execution_count": null,
      "outputs": [
        {
          "output_type": "stream",
          "name": "stdout",
          "text": [
            "True\n"
          ]
        }
      ]
    },
    {
      "cell_type": "markdown",
      "source": [
        "**#Note that we write the first letter of True in uppercase.**"
      ],
      "metadata": {
        "id": "n0-DzbWLz25u"
      }
    },
    {
      "cell_type": "markdown",
      "source": [
        "**#We can convert the types of data each other. For doing this we write the name of the data type then close it with brackets and write inside brackets our variable that we want convert.**"
      ],
      "metadata": {
        "id": "y4rLCixe02Av"
      }
    },
    {
      "cell_type": "code",
      "source": [
        "x = 24\n",
        "print(x, type(x))\n",
        "print('Integer fonksiyonumuzu float fonskiyonumuza ceviriyoruz: ', float(x))"
      ],
      "metadata": {
        "id": "p3pkivuWIrXn",
        "colab": {
          "base_uri": "https://localhost:8080/"
        },
        "outputId": "6f357026-fb11-4daa-f905-a26c7d2b8a57"
      },
      "execution_count": null,
      "outputs": [
        {
          "output_type": "stream",
          "name": "stdout",
          "text": [
            "24 <class 'int'>\n",
            "Integer fonksiyonumuzu float fonskiyonumuza ceviriyoruz:  24.0\n"
          ]
        }
      ]
    },
    {
      "cell_type": "markdown",
      "source": [
        "**#Phyton is clever language. When we change our value for variable name, makes it automatically. Let me do it!**\n",
        "\n",
        "\n",
        "\n"
      ],
      "metadata": {
        "id": "_y9rqQii24sj"
      }
    },
    {
      "cell_type": "code",
      "source": [
        "color = 'Red'\n",
        "number = 32\n",
        "city = 'Antwerp'\n",
        "color = 'Blue'\n",
        "number = 34\n",
        "print(color, number, city, sep = ',')"
      ],
      "metadata": {
        "colab": {
          "base_uri": "https://localhost:8080/"
        },
        "id": "1wydbkcI13aD",
        "outputId": "5109753d-2ad6-48be-bf24-21809fae56b7"
      },
      "execution_count": null,
      "outputs": [
        {
          "output_type": "stream",
          "name": "stdout",
          "text": [
            "Blue,34,Antwerp\n"
          ]
        }
      ]
    },
    {
      "cell_type": "markdown",
      "source": [
        "**#Note that, If you use undefined name of a variable in the code you write, you will get an 'NameError' message.**"
      ],
      "metadata": {
        "id": "6DZNw7YE303r"
      }
    },
    {
      "cell_type": "code",
      "source": [
        "color = 'yellow'\n",
        "print(country)"
      ],
      "metadata": {
        "colab": {
          "base_uri": "https://localhost:8080/",
          "height": 181
        },
        "id": "A-VwLHfQ30T3",
        "outputId": "8eddb989-80d2-429f-981f-e5b3cd65b3f3"
      },
      "execution_count": null,
      "outputs": [
        {
          "output_type": "error",
          "ename": "NameError",
          "evalue": "ignored",
          "traceback": [
            "\u001b[0;31m---------------------------------------------------------------------------\u001b[0m",
            "\u001b[0;31mNameError\u001b[0m                                 Traceback (most recent call last)",
            "\u001b[0;32m<ipython-input-11-ca7f82f06df4>\u001b[0m in \u001b[0;36m<module>\u001b[0;34m()\u001b[0m\n\u001b[1;32m      1\u001b[0m \u001b[0mcolor\u001b[0m \u001b[0;34m=\u001b[0m \u001b[0;34m'yellow'\u001b[0m\u001b[0;34m\u001b[0m\u001b[0;34m\u001b[0m\u001b[0m\n\u001b[0;32m----> 2\u001b[0;31m \u001b[0mprint\u001b[0m\u001b[0;34m(\u001b[0m\u001b[0mcountry\u001b[0m\u001b[0;34m)\u001b[0m\u001b[0;34m\u001b[0m\u001b[0;34m\u001b[0m\u001b[0m\n\u001b[0m",
            "\u001b[0;31mNameError\u001b[0m: name 'country' is not defined"
          ]
        }
      ]
    },
    {
      "cell_type": "markdown",
      "source": [
        "**#SIMPLE OPERATIONS**\n",
        "\n",
        "\n",
        "1.   Arithmetic Operations\n",
        "2.   Operations with print() Function\n",
        "3.   Escape Sequences\n",
        "\n"
      ],
      "metadata": {
        "id": "JKJUMOj_7OyV"
      }
    },
    {
      "cell_type": "markdown",
      "source": [
        "#Arithmetic Operations"
      ],
      "metadata": {
        "id": "GDE6TiTF74RF"
      }
    },
    {
      "cell_type": "markdown",
      "source": [
        "In phyton we can all the mathematic operations.\n",
        "\n",
        "1.   parentheses : ()\n",
        "2.   power : **\n",
        "3.   unary minus : -3\n",
        "4.   multiplication and division : *, /\n",
        "5.   addition and subtraction : +, -\n",
        "   \n",
        "\n"
      ],
      "metadata": {
        "id": "m7ygFcm65wm9"
      }
    },
    {
      "cell_type": "code",
      "source": [
        "print(7 // 2)  # it gives integer part of division\n"
      ],
      "metadata": {
        "colab": {
          "base_uri": "https://localhost:8080/"
        },
        "id": "Ck7DtKcM3mR0",
        "outputId": "a071df0d-d701-4486-8283-e7aa75a16854"
      },
      "execution_count": null,
      "outputs": [
        {
          "output_type": "stream",
          "name": "stdout",
          "text": [
            "3\n"
          ]
        }
      ]
    },
    {
      "cell_type": "code",
      "source": [
        "print(9 % 2)  # remainder of this division is 1\n",
        "# it means 9 is an odd number"
      ],
      "metadata": {
        "colab": {
          "base_uri": "https://localhost:8080/"
        },
        "id": "ALIgo4Q36Pbf",
        "outputId": "bb458a7f-bc55-49ec-807f-9623440c4432"
      },
      "execution_count": null,
      "outputs": [
        {
          "output_type": "stream",
          "name": "stdout",
          "text": [
            "1\n"
          ]
        }
      ]
    },
    {
      "cell_type": "code",
      "source": [
        "print((3 * 4)/2)  # parentheses are used as in normal mathematics operations\n",
        "#when we divide, our result should be float"
      ],
      "metadata": {
        "colab": {
          "base_uri": "https://localhost:8080/"
        },
        "id": "P8PffDAN6S6B",
        "outputId": "85c2ef5b-0130-4f73-c200-a147ae784dc4"
      },
      "execution_count": null,
      "outputs": [
        {
          "output_type": "stream",
          "name": "stdout",
          "text": [
            "6.0\n"
          ]
        }
      ]
    },
    {
      "cell_type": "code",
      "source": [
        "print(64**0.5)  # square root"
      ],
      "metadata": {
        "colab": {
          "base_uri": "https://localhost:8080/"
        },
        "id": "BexqpmjT6XXL",
        "outputId": "4a6baf8e-4d6a-48f6-82f9-182a923dfdb1"
      },
      "execution_count": null,
      "outputs": [
        {
          "output_type": "stream",
          "name": "stdout",
          "text": [
            "8.0\n"
          ]
        }
      ]
    },
    {
      "cell_type": "markdown",
      "source": [
        "#Operations with print() function"
      ],
      "metadata": {
        "id": "iClxXfHe68VK"
      }
    },
    {
      "cell_type": "markdown",
      "source": [
        "**#When we writing prite we can seperate more than one expression with comma(,)**"
      ],
      "metadata": {
        "id": "5wfDLPvv8Qj9"
      }
    },
    {
      "cell_type": "code",
      "source": [
        "print('As a result of',',','we decide to write a novel')"
      ],
      "metadata": {
        "colab": {
          "base_uri": "https://localhost:8080/"
        },
        "id": "iG3T31Rw6krX",
        "outputId": "1b1b6e71-0baa-4681-a136-23ea7d8c4a0b"
      },
      "execution_count": null,
      "outputs": [
        {
          "output_type": "stream",
          "name": "stdout",
          "text": [
            "As a result of , we decide to write a novel\n"
          ]
        }
      ]
    },
    {
      "cell_type": "markdown",
      "source": [
        "**#When we use print we realise that all of the expressions seperate from eacht other with space. This is the default settings of Phyton. sep = '' We can also change manuelly. Let's try it!**"
      ],
      "metadata": {
        "id": "cTkCoR2c8uRa"
      }
    },
    {
      "cell_type": "code",
      "source": [
        "print('Ali', 'okula', 'git')\n",
        "print('Ali', 'okula', 'git', sep = '-')"
      ],
      "metadata": {
        "colab": {
          "base_uri": "https://localhost:8080/"
        },
        "id": "Km-O4eJi8rAJ",
        "outputId": "40a3039a-410c-4391-fc81-5f9af215b139"
      },
      "execution_count": null,
      "outputs": [
        {
          "output_type": "stream",
          "name": "stdout",
          "text": [
            "Ali okula git\n",
            "Ali-okula-git\n"
          ]
        }
      ]
    },
    {
      "cell_type": "markdown",
      "source": [
        "**#When we use print, even we dont realise our print switches to new line. This is due to the keyword argument end = '\\n'**"
      ],
      "metadata": {
        "id": "KcXFBkSK9ofS"
      }
    },
    {
      "cell_type": "code",
      "source": [
        "print('Ali')\n",
        "print('okula')\n",
        "print('git')"
      ],
      "metadata": {
        "colab": {
          "base_uri": "https://localhost:8080/"
        },
        "id": "qugBrnfy9YU6",
        "outputId": "e25947eb-db36-48fd-b54d-2107d14a09f0"
      },
      "execution_count": null,
      "outputs": [
        {
          "output_type": "stream",
          "name": "stdout",
          "text": [
            "Ali\n",
            "okula\n",
            "git\n"
          ]
        }
      ]
    },
    {
      "cell_type": "code",
      "source": [
        "print('Ali', end = '!')\n",
        "print('okula', end = '!')\n",
        "print('git')"
      ],
      "metadata": {
        "colab": {
          "base_uri": "https://localhost:8080/"
        },
        "id": "jcSi1fEr-PEP",
        "outputId": "cc89f736-08d3-4c0a-bf10-c39f0f55ab9c"
      },
      "execution_count": null,
      "outputs": [
        {
          "output_type": "stream",
          "name": "stdout",
          "text": [
            "Ali!okula!git\n"
          ]
        }
      ]
    },
    {
      "cell_type": "markdown",
      "source": [
        "\n",
        "*   Variable math operator = number \n",
        "        gives the same result as \n",
        "*   Variable = Variable math operator number.\n",
        "\n",
        "*   Variable += number \n",
        "        gives the same result as\n",
        "*   Variable = Variable + number\n",
        "\n",
        "\n",
        "\n"
      ],
      "metadata": {
        "id": "cGPHLUXT-la6"
      }
    },
    {
      "cell_type": "code",
      "source": [
        "amount_money = my money + 45\n",
        "amount_money + 45 = my money\n"
      ],
      "metadata": {
        "id": "Ak_TnswY-Y0v"
      },
      "execution_count": null,
      "outputs": []
    },
    {
      "cell_type": "markdown",
      "source": [
        "Any mathematics operator can be used before the = character to make an in-place operation:\n",
        "\n",
        "\n",
        "*   -= decrements the variable in place,\n",
        "*   += increment the variable in place,\n",
        "*   += increment the variable in place,\n",
        "*   *= multiply the variable in place,\n",
        "*   /= divide the variable in place,\n",
        "*   //= ﬂoor divide the variable in place,\n",
        "*   %= returns the modulus of the variable in place,\n",
        "*   **= raise to power in place.\n",
        "\n",
        "\n",
        "\n",
        "\n",
        "\n"
      ],
      "metadata": {
        "id": "dKnghOhVBlim"
      }
    },
    {
      "cell_type": "markdown",
      "source": [
        "#Escape Sequences"
      ],
      "metadata": {
        "id": "tDoq8pS7Ch2d"
      }
    },
    {
      "cell_type": "markdown",
      "source": [
        "***# ' 👉🏻\\ ' is a special sign used in expressions called escape sequences, which behaves according to the character immediately after 👉🏻\\ . ***\n",
        "\n",
        "\n",
        "*   \\n : new line\n",
        "*   \\t : tab mark\n",
        "*   \\b : means backspace. It moves one character to the left.\n",
        "\n",
        "\n",
        "\n",
        "\n",
        "\n"
      ],
      "metadata": {
        "id": "rorZhnLrCmFV"
      }
    },
    {
      "cell_type": "code",
      "source": [
        "print('one','two','three', sep = '\\t')"
      ],
      "metadata": {
        "colab": {
          "base_uri": "https://localhost:8080/"
        },
        "id": "G2nqKvWXDYDZ",
        "outputId": "99fbbecf-5cc1-4bf3-eb59-ac8bbaef5a6c"
      },
      "execution_count": null,
      "outputs": [
        {
          "output_type": "stream",
          "name": "stdout",
          "text": [
            "one\ttwo\tthree\n"
          ]
        }
      ]
    },
    {
      "cell_type": "code",
      "source": [
        "print('one','two','three', sep = '\\b')"
      ],
      "metadata": {
        "colab": {
          "base_uri": "https://localhost:8080/"
        },
        "id": "n5O8dExGEdE3",
        "outputId": "ceb12fcc-5be9-4764-c2d3-1488a212e8a6"
      },
      "execution_count": null,
      "outputs": [
        {
          "output_type": "stream",
          "name": "stdout",
          "text": [
            "one\btwo\bthree\n"
          ]
        }
      ]
    },
    {
      "cell_type": "code",
      "source": [
        "print('there', '\\bis','\\bno','\\bspace')"
      ],
      "metadata": {
        "colab": {
          "base_uri": "https://localhost:8080/"
        },
        "id": "041v00IUEi0r",
        "outputId": "d340c6e3-efff-4d27-b6a6-dd274571eeec"
      },
      "execution_count": null,
      "outputs": [
        {
          "output_type": "stream",
          "name": "stdout",
          "text": [
            "there \bis \bno \bspace\n"
          ]
        }
      ]
    },
    {
      "cell_type": "markdown",
      "source": [
        "**#Normally when we use ' inside the ' ', Python will give error. Because single-quote in single quotes gives an error. But here, in the example below, \\ allows single-quote ' to be ignored. So it gives no error.**"
      ],
      "metadata": {
        "id": "tDaB8WE-FDch"
      }
    },
    {
      "cell_type": "code",
      "source": [
        "print('it\\'s funny to learn Python')"
      ],
      "metadata": {
        "colab": {
          "base_uri": "https://localhost:8080/"
        },
        "id": "Z0IEdOIHE7_F",
        "outputId": "3a98ea84-9b66-49f5-d41c-bc203d6cd1fc"
      },
      "execution_count": null,
      "outputs": [
        {
          "output_type": "stream",
          "name": "stdout",
          "text": [
            "it's funny to learn Python\n"
          ]
        }
      ]
    },
    {
      "cell_type": "markdown",
      "source": [
        "**#Don't forget \\ ignores the character the comes after it. If you use two times  \\\\ it may cause error.**"
      ],
      "metadata": {
        "id": "n3JBsOcBFkC6"
      }
    },
    {
      "cell_type": "code",
      "source": [
        "print('it\\\\'s funny to learn Python')"
      ],
      "metadata": {
        "colab": {
          "base_uri": "https://localhost:8080/",
          "height": 130
        },
        "id": "px1JmmJQFPuv",
        "outputId": "50bb0f02-15de-4d35-a938-40a16cdd73c6"
      },
      "execution_count": null,
      "outputs": [
        {
          "output_type": "error",
          "ename": "SyntaxError",
          "evalue": "ignored",
          "traceback": [
            "\u001b[0;36m  File \u001b[0;32m\"<ipython-input-26-ea927368c470>\"\u001b[0;36m, line \u001b[0;32m1\u001b[0m\n\u001b[0;31m    print('it\\\\'s funny to learn Python')\u001b[0m\n\u001b[0m                ^\u001b[0m\n\u001b[0;31mSyntaxError\u001b[0m\u001b[0;31m:\u001b[0m invalid syntax\n"
          ]
        }
      ]
    },
    {
      "cell_type": "markdown",
      "source": [
        "#Boolean Operations"
      ],
      "metadata": {
        "id": "q_5u6jCA6ZVU"
      }
    },
    {
      "cell_type": "markdown",
      "source": [
        "**#As we learned before; boolean operations can have two values. True and False. Phyton has three built-in boolean operators: and, or, not.**"
      ],
      "metadata": {
        "id": "VibVVNbTTdJJ"
      }
    },
    {
      "cell_type": "markdown",
      "source": [
        "**# If 'and' function sees False value, it takes it. It concentrates to take False value. If it sees it in the first value it takes the first one or if it sees it in the second value it takes the second value. If it doesn't see it, it takes the laast True value.**"
      ],
      "metadata": {
        "id": "1apK0_0kT7WO"
      }
    },
    {
      "cell_type": "code",
      "source": [
        "x = 1 and ()\n",
        "y = 0 and 3\n",
        "z = True and (0)\n",
        "t = False and {}\n",
        "\n",
        "print(x and y and z and t)\n"
      ],
      "metadata": {
        "colab": {
          "base_uri": "https://localhost:8080/"
        },
        "id": "DVNi0YjeUm4I",
        "outputId": "f9535601-134a-42c1-c237-92fadf4a3043"
      },
      "execution_count": null,
      "outputs": [
        {
          "output_type": "stream",
          "name": "stdout",
          "text": [
            "()\n"
          ]
        }
      ]
    },
    {
      "cell_type": "markdown",
      "source": [
        "**# If'or'function sees True value, it takes it. It concetrates to take True value. If it sees it in the first value it takes the first one or if it sees it in the second value it takes the second value. If it doesn't see it, it takes the last False value.**\n",
        "\n",
        "\n",
        "\n"
      ],
      "metadata": {
        "id": "uISKSbCFVQOU"
      }
    },
    {
      "cell_type": "code",
      "source": [
        "x = 1 or ()\n",
        "y = 0 and 3\n",
        "z = True or (0)\n",
        "t = False and {}\n",
        "print(x or y and z or t)"
      ],
      "metadata": {
        "colab": {
          "base_uri": "https://localhost:8080/"
        },
        "id": "c2WJJj3yVP9K",
        "outputId": "d9fb6257-70af-4cc7-b0ee-5665da533114"
      },
      "execution_count": null,
      "outputs": [
        {
          "output_type": "stream",
          "name": "stdout",
          "text": [
            "1\n"
          ]
        }
      ]
    },
    {
      "cell_type": "markdown",
      "source": [
        "**# It is important to remember that, logical operators have a different priority and it has an effect on the order of evaluation.**\n",
        "\n",
        "1.   not\n",
        "2.   and\n",
        "3.   or \n",
        "\n"
      ],
      "metadata": {
        "id": "sABp4R6pWUu1"
      }
    },
    {
      "cell_type": "markdown",
      "source": [
        "**# The following values are considered False, in that they evaluate to False when applied to a boolean operator:**\n",
        "\n",
        "\n",
        "*   None\n",
        "*   0, 0.0 , 0j\n",
        "*   \", [], {}\n",
        "*   Other than above values, any remaining value is evaluated as True\n",
        "\n"
      ],
      "metadata": {
        "id": "s7USmB6kXQ75"
      }
    },
    {
      "cell_type": "markdown",
      "source": [
        "THE STRENGTH OF STRINGS IN PHYTON\n",
        "\n",
        "*   Indexing&Slicing Strings\n",
        "*   String formatting with Arithmetic Syntax\n",
        "*   String formatting with '%' Operator\n",
        "*   String formatting with 'string.format()' method\n",
        "*   String Formatting with 'f-string'\n",
        "\n"
      ],
      "metadata": {
        "id": "DaMQsYyHaFU1"
      }
    },
    {
      "cell_type": "markdown",
      "source": [
        "# Indexing&Slicing Strings"
      ],
      "metadata": {
        "id": "5jdAldIia_Uf"
      }
    },
    {
      "cell_type": "markdown",
      "source": [
        "**# As we mentioned earlier, you can do whatever you want with strings. One of them is you can access all elements of a string type data very easily. The formula syntax of string indexing is : string[start:stop:step].**"
      ],
      "metadata": {
        "id": "wQixoA6GbDyJ"
      }
    },
    {
      "cell_type": "code",
      "source": [
        "city = 'Istanbul'\n",
        "#  I   s    t    a     n     b      u    l\n",
        "#  0   1    2    3     4     5      6    7\n",
        "# -8  -7   -6   -5    -4    -3     -2   -1    \n",
        "\n",
        "print(city[:])\n",
        "print(city[1:5])\n",
        "print(city[2:7:2])\n",
        "print(city[-2:-6])\n",
        "print(city[-4:0])\n",
        "print(city[-1:-8:-2])"
      ],
      "metadata": {
        "colab": {
          "base_uri": "https://localhost:8080/"
        },
        "id": "1IrO0vYabkRl",
        "outputId": "f690d009-8660-407d-a1fd-90d9d31bafc4"
      },
      "execution_count": null,
      "outputs": [
        {
          "output_type": "stream",
          "name": "stdout",
          "text": [
            "Istanbul\n",
            "stan\n",
            "tnu\n",
            "\n",
            "\n",
            "lbas\n"
          ]
        }
      ]
    },
    {
      "cell_type": "markdown",
      "source": [
        "# String formatting with Arithmetic Syntax"
      ],
      "metadata": {
        "id": "STrs1MyOf7ZD"
      }
    },
    {
      "cell_type": "markdown",
      "source": [
        "We can use + operator for combining the two string together without any spaces. For example "
      ],
      "metadata": {
        "id": "DdvZb5jFgPTZ"
      }
    },
    {
      "cell_type": "code",
      "source": [
        "print('ali'+'ayse')"
      ],
      "metadata": {
        "colab": {
          "base_uri": "https://localhost:8080/"
        },
        "id": "ieJvVzVZgQqi",
        "outputId": "54312c10-8032-470c-a250-80c3cf8a6724"
      },
      "execution_count": null,
      "outputs": [
        {
          "output_type": "stream",
          "name": "stdout",
          "text": [
            "aliayse\n"
          ]
        }
      ]
    },
    {
      "cell_type": "markdown",
      "source": [
        "We can also use * operator for repeating the string without any spaces. For example :"
      ],
      "metadata": {
        "id": "iZMicqf6gYpc"
      }
    },
    {
      "cell_type": "code",
      "source": [
        "print('ali'*3)\n"
      ],
      "metadata": {
        "colab": {
          "base_uri": "https://localhost:8080/"
        },
        "id": "v30EywOmVFtq",
        "outputId": "fd124478-28e7-4d6e-91ff-b35547a82734"
      },
      "execution_count": null,
      "outputs": [
        {
          "output_type": "stream",
          "name": "stdout",
          "text": [
            "alialiali\n"
          ]
        }
      ]
    },
    {
      "cell_type": "markdown",
      "source": [
        "#String formatting with '%' Operator"
      ],
      "metadata": {
        "id": "XBg_sDrSlPrs"
      }
    },
    {
      "cell_type": "markdown",
      "source": [
        " % operator gets the values in order and prints them in order.\n",
        "\n",
        "---\n",
        "For now we used only s,d, and f characters to specify the data dype in a string. \n",
        "\n",
        "1.   s presents 'string'\n",
        "2.   d presents 'numeric'\n",
        "3.   .2f presents 'float'. It converts our value to float. \n",
        "\n",
        "\n"
      ],
      "metadata": {
        "id": "C-_7i9f7l0q9"
      }
    },
    {
      "cell_type": "code",
      "source": [
        " phrase = 'Before you come, buy %d apples, 4 %s and %.2f kilograms tomato' %(3,'banana',2)\n",
        " print(phrase)"
      ],
      "metadata": {
        "colab": {
          "base_uri": "https://localhost:8080/"
        },
        "id": "M62EqYrAfVvA",
        "outputId": "4104b754-e88a-493b-dcb1-abe4bc1ed590"
      },
      "execution_count": null,
      "outputs": [
        {
          "output_type": "stream",
          "name": "stdout",
          "text": [
            "Before you come, buy 3 apples, 4 banana and 2.00 kilograms tomato\n"
          ]
        }
      ]
    },
    {
      "cell_type": "markdown",
      "source": [
        "**# If you want you can limit the characters of the strings. Here is an example**"
      ],
      "metadata": {
        "id": "WXnV7GfanenC"
      }
    },
    {
      "cell_type": "code",
      "source": [
        "sentence = 'Hardworking is a key of the success'\n",
        "print(\"%.5s\" % sentence)"
      ],
      "metadata": {
        "colab": {
          "base_uri": "https://localhost:8080/"
        },
        "id": "a9YEa5oInWoN",
        "outputId": "a633b092-fd2c-4fa4-d1d4-d35936878d96"
      },
      "execution_count": null,
      "outputs": [
        {
          "output_type": "stream",
          "name": "stdout",
          "text": [
            "Hardw\n"
          ]
        }
      ]
    },
    {
      "cell_type": "code",
      "source": [
        "prime_numbers = '3,5,7,11,13,17,19,23,29'\n",
        "print(\"%.5s\" % prime_numbers)"
      ],
      "metadata": {
        "colab": {
          "base_uri": "https://localhost:8080/"
        },
        "id": "QUUQiFg9m_wc",
        "outputId": "df4a299a-c8e7-4a6d-9b72-7018560cb32a"
      },
      "execution_count": null,
      "outputs": [
        {
          "output_type": "stream",
          "name": "stdout",
          "text": [
            "3,5,7\n"
          ]
        }
      ]
    },
    {
      "cell_type": "markdown",
      "source": [
        "# String Formatting with 'string.format()' Method\n"
      ],
      "metadata": {
        "id": "mzfrjtwWC4kd"
      }
    },
    {
      "cell_type": "markdown",
      "source": [
        "Operator system is not commonly used. With the string.format, you can change value of a variable easily. Let's look at the how to use it.  There are four different methods.\n"
      ],
      "metadata": {
        "id": "XkX63QB3CV-p"
      }
    },
    {
      "cell_type": "code",
      "source": [
        "#1\n",
        "fruit = 'apple'\n",
        "amount = 2\n",
        "snacks = 'chips'\n",
        "phrase = 'Before you came, buy {} kilograms {} and 3 {}'.format(amount,fruit,snacks)\n",
        "print(phrase)"
      ],
      "metadata": {
        "colab": {
          "base_uri": "https://localhost:8080/"
        },
        "id": "K1xUjiBPoqaX",
        "outputId": "32204707-d788-44fe-bed3-cb568faa8a69"
      },
      "execution_count": null,
      "outputs": [
        {
          "output_type": "stream",
          "name": "stdout",
          "text": [
            "Before you came, buy 2 kilograms apple and 3 chips\n"
          ]
        }
      ]
    },
    {
      "cell_type": "code",
      "source": [
        "#2\n",
        "phrase = 'Before you came, buy {} kilograms {} and 3 {}'.format(2,'apple','chips')\n",
        "print(phrase)"
      ],
      "metadata": {
        "colab": {
          "base_uri": "https://localhost:8080/"
        },
        "id": "IxKXBc0mD69s",
        "outputId": "3b059b09-89dc-498c-ab60-a62286d42860"
      },
      "execution_count": null,
      "outputs": [
        {
          "output_type": "stream",
          "name": "stdout",
          "text": [
            "Before you came, buy 2 kilograms apple and 3 chips\n"
          ]
        }
      ]
    },
    {
      "cell_type": "code",
      "source": [
        "#3\n",
        "phrase = 'Before you came, buy {amount} kilograms {fruit} and 3 {snacks}'.format(fruit = 'apple', amount = '2', snacks = 'chips')\n",
        "print(phrase)"
      ],
      "metadata": {
        "colab": {
          "base_uri": "https://localhost:8080/"
        },
        "id": "TJ5z0D7cEtfk",
        "outputId": "a6ed5fec-0a27-4ad2-ef84-535d78eb6970"
      },
      "execution_count": null,
      "outputs": [
        {
          "output_type": "stream",
          "name": "stdout",
          "text": [
            "Before you came, buy 2 kilograms apple and 3 chips\n"
          ]
        }
      ]
    },
    {
      "cell_type": "code",
      "source": [
        "#4\n",
        "phrase = 'Before you came, buy {1} kilograms {0} and 3 {2}'.format('apple','2','chips')\n",
        "print(phrase)"
      ],
      "metadata": {
        "colab": {
          "base_uri": "https://localhost:8080/"
        },
        "id": "X23PAdfHFdSu",
        "outputId": "6cbc351a-a891-4627-cae2-001f0b2ed9a9"
      },
      "execution_count": null,
      "outputs": [
        {
          "output_type": "stream",
          "name": "stdout",
          "text": [
            "Before you came, buy 2 kilograms apple and 3 chips\n"
          ]
        }
      ]
    },
    {
      "cell_type": "markdown",
      "source": [
        "#String Formatting with 'f-string'"
      ],
      "metadata": {
        "id": "7I00kJVDGhDu"
      }
    },
    {
      "cell_type": "code",
      "source": [
        "fruit = 'apple'\n",
        "amount = 2\n",
        "snacks = 'chips'\n",
        "phrase = f\"Before you came, buy {amount} kilograms {fruit} and 3 {snacks}\"\n",
        "print(phrase)"
      ],
      "metadata": {
        "colab": {
          "base_uri": "https://localhost:8080/"
        },
        "id": "Rm4TRidaGgwq",
        "outputId": "3a0d6509-7ed1-4065-b0e0-c2ef4d9329b6"
      },
      "execution_count": null,
      "outputs": [
        {
          "output_type": "stream",
          "name": "stdout",
          "text": [
            "Before you came, buy 2 kilograms apple and 3 chips\n"
          ]
        }
      ]
    },
    {
      "cell_type": "markdown",
      "source": [
        "**# You can use all valid expressions, variables, and even methods in curly braces. Look at the examples:**\n",
        "\n"
      ],
      "metadata": {
        "id": "f3qqlrvBHkCa"
      }
    },
    {
      "cell_type": "code",
      "source": [
        "result = {5*4}\n",
        "print(result)"
      ],
      "metadata": {
        "colab": {
          "base_uri": "https://localhost:8080/"
        },
        "id": "25kQKGtuGJRW",
        "outputId": "ab6084ca-5b52-4992-c9fe-11558185bcea"
      },
      "execution_count": null,
      "outputs": [
        {
          "output_type": "stream",
          "name": "stdout",
          "text": [
            "{20}\n"
          ]
        }
      ]
    },
    {
      "cell_type": "code",
      "source": [
        "my_name = 'Ahmet'\n",
        "phrase = f\"Hello,my name is {my_name.swapcase()}\"\n",
        "print(phrase)"
      ],
      "metadata": {
        "colab": {
          "base_uri": "https://localhost:8080/"
        },
        "id": "poRUh9NnHeuB",
        "outputId": "8e4bc98f-b156-48e7-9dc2-c359d08eca80"
      },
      "execution_count": null,
      "outputs": [
        {
          "output_type": "stream",
          "name": "stdout",
          "text": [
            "Hello,my name is aHMET\n"
          ]
        }
      ]
    },
    {
      "cell_type": "markdown",
      "source": [
        "There is also a multiline f-string formatting style. Follow the example :\n"
      ],
      "metadata": {
        "id": "PGBpg6YFIXSC"
      }
    },
    {
      "cell_type": "code",
      "source": [
        "name = \"Joseph\"\n",
        "job = \"teachers\"\n",
        "domain = \"Data Science\"\n",
        "message = (\n",
        "     f\"Hi {name}. \"\n",
        "     f\"You are one of the {job} \"\n",
        "     f\"in the {domain} section.\"\n",
        ")\n",
        "print(message)"
      ],
      "metadata": {
        "colab": {
          "base_uri": "https://localhost:8080/"
        },
        "id": "vSevpWO4H_wg",
        "outputId": "7f624ca5-3309-439e-832c-21e7baf7bde5"
      },
      "execution_count": null,
      "outputs": [
        {
          "output_type": "stream",
          "name": "stdout",
          "text": [
            "Hi Joseph. You are one of the teachers in the Data Science section.\n"
          ]
        }
      ]
    },
    {
      "cell_type": "markdown",
      "source": [
        "**MAIN STRING OPERATIONS**"
      ],
      "metadata": {
        "id": "AhQ0tCDjIwoP"
      }
    },
    {
      "cell_type": "markdown",
      "source": [
        "*   Searching a String\n",
        "*   Changing a String\n",
        "*   Editing a String\n",
        "\n"
      ],
      "metadata": {
        "id": "O3cJnxr3I0rM"
      }
    },
    {
      "cell_type": "markdown",
      "source": [
        "# Searching a String"
      ],
      "metadata": {
        "id": "gTUZG00LJSRI"
      }
    },
    {
      "cell_type": "markdown",
      "source": [
        "**# There are two useful methods to search particular pattern in the immediate beginning or end of a string. If we ask with startswith and endswith in print fuction returns it to the True or False. Let's look an example to understand beter.**"
      ],
      "metadata": {
        "id": "rUzDEFtLJaBE"
      }
    },
    {
      "cell_type": "code",
      "source": [
        "phrase = 'Hardworking is a key of success'\n",
        "print(phrase.startswith('Hardworking'))\n",
        "print(phrase.endswith('key'))"
      ],
      "metadata": {
        "colab": {
          "base_uri": "https://localhost:8080/"
        },
        "id": "m64reC32JZVV",
        "outputId": "9ced75b0-4ec1-48fb-85bf-fff88f4080a5"
      },
      "execution_count": null,
      "outputs": [
        {
          "output_type": "stream",
          "name": "stdout",
          "text": [
            "True\n",
            "False\n"
          ]
        }
      ]
    },
    {
      "cell_type": "markdown",
      "source": [
        "**# We can specify the search by adding arguments so that the area of search is delimited by start and end arguments.**"
      ],
      "metadata": {
        "id": "YZBCh2eZKzBz"
      }
    },
    {
      "cell_type": "code",
      "source": [
        "phrase = 'Hardworking is a key of success'\n",
        "print(phrase.startswith('g',10))\n",
        "print(phrase.endswith('c',10,20))"
      ],
      "metadata": {
        "colab": {
          "base_uri": "https://localhost:8080/"
        },
        "id": "3BhBAlUTJVTi",
        "outputId": "aa0b85fb-264d-4250-b660-e278532e7732"
      },
      "execution_count": null,
      "outputs": [
        {
          "output_type": "stream",
          "name": "stdout",
          "text": [
            "True\n",
            "False\n"
          ]
        }
      ]
    },
    {
      "cell_type": "markdown",
      "source": [
        "# Changing a String"
      ],
      "metadata": {
        "id": "yTrFFxiCMqvK"
      }
    },
    {
      "cell_type": "markdown",
      "source": [
        "*   str.replace(old,new)\n",
        "*   str.swapcase() -- converts upper case to lower case\n",
        "*   str.capitalize() -- changes the first character of the string to the upper case and rest to the lower case\n",
        "*   str.upper() -- converts all the characters to the upper case\n",
        "*   str.lower() -- converts all the characters to the lower case\n",
        "*   str.title() -- converts only the first characters of the woords to the upper\n",
        "\n",
        "\n",
        "\n",
        "\n",
        "\n",
        "\n"
      ],
      "metadata": {
        "id": "W0Pr3y4XMs8b"
      }
    },
    {
      "cell_type": "code",
      "source": [
        "phrase = 'Biz sorunlarimizdan kahvalti yaparak kacacak adamlar degiliz'\n",
        "print(phrase.replace('a','ç'))\n",
        "print(phrase.swapcase())\n",
        "print(phrase.capitalize())\n",
        "print(phrase.upper())\n",
        "print(phrase.lower())\n",
        "print(phrase.title())"
      ],
      "metadata": {
        "colab": {
          "base_uri": "https://localhost:8080/"
        },
        "id": "rC2TzwahIe1i",
        "outputId": "cd1f5550-88b8-4929-8583-ab9866070627"
      },
      "execution_count": null,
      "outputs": [
        {
          "output_type": "stream",
          "name": "stdout",
          "text": [
            "Biz sorunlçrimizdçn kçhvçlti yçpçrçk kçcçcçk çdçmlçr degiliz\n",
            "bIZ SORUNLARIMIZDAN KAHVALTI YAPARAK KACACAK ADAMLAR DEGILIZ\n",
            "Biz sorunlarimizdan kahvalti yaparak kacacak adamlar degiliz\n",
            "BIZ SORUNLARIMIZDAN KAHVALTI YAPARAK KACACAK ADAMLAR DEGILIZ\n",
            "biz sorunlarimizdan kahvalti yaparak kacacak adamlar degiliz\n",
            "Biz Sorunlarimizdan Kahvalti Yaparak Kacacak Adamlar Degiliz\n"
          ]
        }
      ]
    },
    {
      "cell_type": "markdown",
      "source": [
        "# Editing a String\n"
      ],
      "metadata": {
        "id": "-09_SehTPUmD"
      }
    },
    {
      "cell_type": "markdown",
      "source": [
        "*   str.strip() -- removes all spaces or specified characters from both sides\n",
        "*   str.rstrip() -- removes all spaces or specified characters from rigth side\n",
        "*   str.lstrip() -- removes all spaces or specified characters from left side\n",
        "\n"
      ],
      "metadata": {
        "id": "lwNDh_O_PZXu"
      }
    },
    {
      "cell_type": "code",
      "source": [
        "phrase = '    Biz sorunlarimizdan kahvalti yaparak kacacak adamlar degiliz    '\n",
        "print(phrase.strip())\n",
        "print(phrase.rstrip())\n",
        "print(phrase.lstrip())"
      ],
      "metadata": {
        "colab": {
          "base_uri": "https://localhost:8080/"
        },
        "id": "tq07acxEOx53",
        "outputId": "3d8ea261-e25e-4ed1-9b27-64330f1e6304"
      },
      "execution_count": null,
      "outputs": [
        {
          "output_type": "stream",
          "name": "stdout",
          "text": [
            "Biz sorunlarimizdan kahvalti yaparak kacacak adamlar degiliz\n",
            "    Biz sorunlarimizdan kahvalti yaparak kacacak adamlar degiliz\n",
            "Biz sorunlarimizdan kahvalti yaparak kacacak adamlar degiliz    \n"
          ]
        }
      ]
    },
    {
      "cell_type": "code",
      "source": [
        "phrase = 'Biz sorunlarimizdan kahvalti yaparak kacacak adamlar degiliz'\n",
        "print(phrase.lstrip('Bi'))"
      ],
      "metadata": {
        "colab": {
          "base_uri": "https://localhost:8080/"
        },
        "id": "4CF4db1YQALM",
        "outputId": "d0fd8f1b-4a61-4e6e-debe-3e6d1049f5e1"
      },
      "execution_count": null,
      "outputs": [
        {
          "output_type": "stream",
          "name": "stdout",
          "text": [
            "z sorunlarimizdan kahvalti yaparak kacacak adamlar degiliz\n"
          ]
        }
      ]
    },
    {
      "cell_type": "markdown",
      "source": [
        "LISTS\n",
        "*   Creating a List\n",
        "*   Basic Operations with Lists\n",
        "\n"
      ],
      "metadata": {
        "id": "uwiUIDehWnJ1"
      }
    },
    {
      "cell_type": "markdown",
      "source": [
        "# Creating a List"
      ],
      "metadata": {
        "id": "1ObUxT6UW4Bo"
      }
    },
    {
      "cell_type": "markdown",
      "source": [
        "**# There are various collection types in Python. While types such as int and str hold a single value, collection types hold multiple values.In your programs, you usually need to group several items to render as a single object. We use collection types of data to do this job.One of the most useful collection in Phyton a list**"
      ],
      "metadata": {
        "id": "al8oldf9W7OV"
      }
    },
    {
      "cell_type": "markdown",
      "source": [
        "**# A list can be created by enclosing values,seperated by commas in square brackets.**"
      ],
      "metadata": {
        "id": "5Vg_hHBYXupP"
      }
    },
    {
      "cell_type": "code",
      "source": [
        "cities = ['Antwerp','Istanbul','Marsilya','Amsterdam','Atina']"
      ],
      "metadata": {
        "id": "Zm2hxmGAW3q2"
      },
      "execution_count": null,
      "outputs": []
    },
    {
      "cell_type": "markdown",
      "source": [
        "***# Another way to create a list is to call the 'list()'function. [] senin listeni birlestiriyorken , list() tur yaptigimizda listemiizin icindeki elemanlara teker teker parcalamis oluyoruz. ***"
      ],
      "metadata": {
        "id": "dOW1J5uuY5S8"
      }
    },
    {
      "cell_type": "code",
      "source": [
        "new_folder = ['Antwerp','Istanbul','Marsilya','Amsterdam','Atina'] # this is a single element list\n",
        "new1_folder = list('Antwerp,Istanbul,Marsilya,Amsterdam,Atina')    # we created multi element list. It takes only one argument and return them one by one\n",
        "print(new_folder)\n",
        "print(new1_folder)"
      ],
      "metadata": {
        "colab": {
          "base_uri": "https://localhost:8080/"
        },
        "id": "NsN5ZSs2Qdhm",
        "outputId": "3608ebf6-293b-4f9f-f2e0-2ded6b04467b"
      },
      "execution_count": null,
      "outputs": [
        {
          "output_type": "stream",
          "name": "stdout",
          "text": [
            "['Antwerp', 'Istanbul', 'Marsilya', 'Amsterdam', 'Atina']\n",
            "['A', 'n', 't', 'w', 'e', 'r', 'p', ',', 'I', 's', 't', 'a', 'n', 'b', 'u', 'l', ',', 'M', 'a', 'r', 's', 'i', 'l', 'y', 'a', ',', 'A', 'm', 's', 't', 'e', 'r', 'd', 'a', 'm', ',', 'A', 't', 'i', 'n', 'a']\n"
          ]
        }
      ]
    },
    {
      "cell_type": "markdown",
      "source": [
        "# Basic Operations With Lists![list functions.png](data:image/png;base64,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)"
      ],
      "metadata": {
        "id": "iS8x-0vPakhe"
      }
    },
    {
      "cell_type": "markdown",
      "source": [
        "**# We can add an element our list with using twee methods. .append() methods add one element to the end of the list. .insert() methods add one element to the specific index in the list**"
      ],
      "metadata": {
        "id": "ZMa_m3cabYam"
      }
    },
    {
      "cell_type": "code",
      "source": [
        "my_ouders = ['annem','babam','ablam']\n",
        "my_ouders.append('kardesim')\n",
        "print(my_ouders)"
      ],
      "metadata": {
        "colab": {
          "base_uri": "https://localhost:8080/"
        },
        "id": "piu4a9JgZ7cL",
        "outputId": "425ea6f6-b478-4d79-a404-144b1c9fe9b2"
      },
      "execution_count": null,
      "outputs": [
        {
          "output_type": "stream",
          "name": "stdout",
          "text": [
            "['annem', 'babam', 'ablam', 'kardesim']\n"
          ]
        }
      ]
    },
    {
      "cell_type": "code",
      "source": [
        "my_ouders = ['annem','babam','ablam']\n",
        "my_ouders.insert(1,'kardesim')\n",
        "print(my_ouders)"
      ],
      "metadata": {
        "colab": {
          "base_uri": "https://localhost:8080/"
        },
        "id": "wvPbbpoJcNop",
        "outputId": "2a625aee-7a4e-4800-9d92-0124164c1d35"
      },
      "execution_count": null,
      "outputs": [
        {
          "output_type": "stream",
          "name": "stdout",
          "text": [
            "['annem', 'kardesim', 'babam', 'ablam']\n"
          ]
        }
      ]
    },
    {
      "cell_type": "code",
      "source": [
        "my_ouders = ['annem','babam','ablam']\n",
        "my_ouders.remove('babam')\n",
        "print(my_ouders)"
      ],
      "metadata": {
        "colab": {
          "base_uri": "https://localhost:8080/"
        },
        "id": "gtQzMZNdcdf8",
        "outputId": "68421773-d574-4d93-a199-57d7634b6794"
      },
      "execution_count": null,
      "outputs": [
        {
          "output_type": "stream",
          "name": "stdout",
          "text": [
            "['annem', 'ablam']\n"
          ]
        }
      ]
    },
    {
      "cell_type": "code",
      "source": [
        "my_ouders = ['annem','babam','ablam']\n",
        "my_ouders.sort()\n",
        "print(my_ouders)"
      ],
      "metadata": {
        "colab": {
          "base_uri": "https://localhost:8080/"
        },
        "id": "Rj9zda2JcoRH",
        "outputId": "a1cf2432-53be-4d1d-8ce9-ad6998fdfde6"
      },
      "execution_count": null,
      "outputs": [
        {
          "output_type": "stream",
          "name": "stdout",
          "text": [
            "['ablam', 'annem', 'babam']\n"
          ]
        }
      ]
    },
    {
      "cell_type": "code",
      "source": [
        "my_ouders = ['annem','babam','ablam']\n",
        "print(len(my_ouders))"
      ],
      "metadata": {
        "colab": {
          "base_uri": "https://localhost:8080/"
        },
        "id": "0Boq_48icvSl",
        "outputId": "58ef2c7c-edfd-4a72-f691-a391e81ee3dd"
      },
      "execution_count": null,
      "outputs": [
        {
          "output_type": "stream",
          "name": "stdout",
          "text": [
            "3\n"
          ]
        }
      ]
    },
    {
      "cell_type": "code",
      "source": [
        "my_ouders = ['annem','babam','ablam']\n",
        "my_ouders.pop(2)\n",
        "print(my_ouders)"
      ],
      "metadata": {
        "colab": {
          "base_uri": "https://localhost:8080/"
        },
        "id": "qvzap1SDc0P5",
        "outputId": "7bb25c33-51cf-4ab7-fd78-92af5d1e5c87"
      },
      "execution_count": null,
      "outputs": [
        {
          "output_type": "stream",
          "name": "stdout",
          "text": [
            "['annem', 'babam']\n"
          ]
        }
      ]
    },
    {
      "cell_type": "markdown",
      "source": [
        "# Accesing Lists "
      ],
      "metadata": {
        "id": "oEujapsWdjE7"
      }
    },
    {
      "cell_type": "markdown",
      "source": [
        "**# As we did in string data type,we can the elements of the list access or slicing. Actually list is a data type like string. And it contains more than one string. That's way we classify it as collection data type.**"
      ],
      "metadata": {
        "id": "vcfWnxPddqb5"
      }
    },
    {
      "cell_type": "code",
      "source": [
        "colors = ['red', 'purple', 'blue', 'yellow', 'green']\n",
        "print(colors[2])"
      ],
      "metadata": {
        "colab": {
          "base_uri": "https://localhost:8080/"
        },
        "id": "xGDmswIKdEmr",
        "outputId": "c226a0b1-59d5-413f-859a-7513d099cc26"
      },
      "execution_count": null,
      "outputs": [
        {
          "output_type": "stream",
          "name": "stdout",
          "text": [
            "blue\n"
          ]
        }
      ]
    },
    {
      "cell_type": "code",
      "source": [
        "cities = ['Antwerp','Istanbul','Marsilya','Amsterdam','Atina']\n",
        "my_cities = []\n",
        "my_cities.append(cities)\n",
        "print(my_cities)"
      ],
      "metadata": {
        "colab": {
          "base_uri": "https://localhost:8080/"
        },
        "id": "3HL_W0bLebJo",
        "outputId": "d2a49717-8f24-444f-9ab9-07353d5db117"
      },
      "execution_count": null,
      "outputs": [
        {
          "output_type": "stream",
          "name": "stdout",
          "text": [
            "[['Antwerp', 'Istanbul', 'Marsilya', 'Amsterdam', 'Atina']]\n"
          ]
        }
      ]
    },
    {
      "cell_type": "code",
      "source": [
        "cities = [['Antwerp','Istanbul','Marsilya','Amsterdam','Atina']]\n",
        "print(cities[0])  # access to first and only element\n"
      ],
      "metadata": {
        "colab": {
          "base_uri": "https://localhost:8080/"
        },
        "id": "-l3OSUbHeyNc",
        "outputId": "341afcca-b1ac-4b56-bf0b-7652d4a29731"
      },
      "execution_count": null,
      "outputs": [
        {
          "output_type": "stream",
          "name": "stdout",
          "text": [
            "['Antwerp', 'Istanbul', 'Marsilya', 'Amsterdam', 'Atina']\n"
          ]
        }
      ]
    },
    {
      "cell_type": "code",
      "source": [
        "cities = [['Antwerp','Istanbul','Marsilya','Amsterdam','Atina']]\n",
        "print(cities[0][2]) "
      ],
      "metadata": {
        "colab": {
          "base_uri": "https://localhost:8080/"
        },
        "id": "NjBOr-6DfGCa",
        "outputId": "8c1057b5-b639-4f93-c1af-0487d9df7687"
      },
      "execution_count": null,
      "outputs": [
        {
          "output_type": "stream",
          "name": "stdout",
          "text": [
            "Marsilya\n"
          ]
        }
      ]
    },
    {
      "cell_type": "code",
      "source": [
        "cities = [['Antwerp','Istanbul','Marsilya','Amsterdam','Atina']]\n",
        "print(cities[0][2][4]) "
      ],
      "metadata": {
        "colab": {
          "base_uri": "https://localhost:8080/"
        },
        "id": "YOv_b5P0fyN-",
        "outputId": "775ec23a-cf24-4fa9-b470-2b65a9fcad38"
      },
      "execution_count": null,
      "outputs": [
        {
          "output_type": "stream",
          "name": "stdout",
          "text": [
            "i\n"
          ]
        }
      ]
    },
    {
      "cell_type": "code",
      "source": [
        "numbers = [1, 3, 5, 7, 9, 11, 13, 15, 17]\n",
        "print(numbers[2:5])  # we get the elements from index=2 to index=5(5 is not included)"
      ],
      "metadata": {
        "colab": {
          "base_uri": "https://localhost:8080/"
        },
        "id": "z1lJS_tugCrw",
        "outputId": "41d72d40-caac-47be-e123-79c3da3624ed"
      },
      "execution_count": null,
      "outputs": [
        {
          "output_type": "stream",
          "name": "stdout",
          "text": [
            "[5, 7, 9]\n"
          ]
        }
      ]
    },
    {
      "cell_type": "markdown",
      "source": [
        "**#If you realise, when we indexing 'numbers' list, returns the output also as a list elements. It's one of the important rules in phyton. The data  type of your variable that you are indexing have to be also your output data type**"
      ],
      "metadata": {
        "id": "Yb69kl01Tnma"
      }
    },
    {
      "cell_type": "code",
      "source": [
        "print(list(range(10)))"
      ],
      "metadata": {
        "colab": {
          "base_uri": "https://localhost:8080/"
        },
        "id": "ruQDWGKxgd8h",
        "outputId": "83f9d4d3-681d-4b3d-a1ee-89f3dbb4d2bb"
      },
      "execution_count": null,
      "outputs": [
        {
          "output_type": "stream",
          "name": "stdout",
          "text": [
            "[0, 1, 2, 3, 4, 5, 6, 7, 8, 9]\n"
          ]
        }
      ]
    },
    {
      "cell_type": "markdown",
      "source": [
        "**#By the way, range() function returns an object that produces a sequence of integers from start (including) to stop (excluding) by step. If you give specific numbers, it returns the numbers between these numbers with ordinary.**"
      ],
      "metadata": {
        "id": "rLFgW7xiUbWy"
      }
    },
    {
      "cell_type": "code",
      "source": [
        "print(list(range(2,8)))"
      ],
      "metadata": {
        "id": "2IOZ22E0gktx",
        "colab": {
          "base_uri": "https://localhost:8080/"
        },
        "outputId": "785c9064-d09c-4ba2-9b7a-fe1c46512bec"
      },
      "execution_count": null,
      "outputs": [
        {
          "output_type": "stream",
          "name": "stdout",
          "text": [
            "[2, 3, 4, 5, 6, 7]\n"
          ]
        }
      ]
    },
    {
      "cell_type": "markdown",
      "source": [
        "Tuples\n",
        "\n",
        "*   Creating a Tuple\n",
        "*   How can we use a Tuple\n",
        "*   Benegits of Immutability\n",
        "\n",
        "\n",
        "\n",
        "\n"
      ],
      "metadata": {
        "id": "KNfbNb1WVXO4"
      }
    },
    {
      "cell_type": "markdown",
      "source": [
        "**#Tuples is a collection data typle like list. The difference from the list, it is immutability.So it's not possible to add or remove a element in tuples. You can imagine like a safe case. You write the elements then close it and anymore it's not possible to make arrangement**"
      ],
      "metadata": {
        "id": "KOUOe5SzVtq_"
      }
    },
    {
      "cell_type": "markdown",
      "source": [
        "# Creting a Tuple"
      ],
      "metadata": {
        "id": "T5Kcg2ZhVT8D"
      }
    },
    {
      "cell_type": "markdown",
      "source": [
        "**#There are two different methods for creating a tuple. We can use brackets but if our tuple contains one element we should use comma at the end of the tuples. Otherwise we can say that it's a string data type.**"
      ],
      "metadata": {
        "id": "siLlOZqlWdo1"
      }
    },
    {
      "cell_type": "code",
      "source": [
        "first_tuple = ('su')\n",
        "print(type(first_tuple))\n",
        "\n",
        "second_tuple = ('su',)\n",
        "print(type(second_tuple))"
      ],
      "metadata": {
        "colab": {
          "base_uri": "https://localhost:8080/"
        },
        "id": "5C975A4WXblf",
        "outputId": "57b7fd0a-1f2f-494b-e078-1734f5e9762b"
      },
      "execution_count": null,
      "outputs": [
        {
          "output_type": "stream",
          "name": "stdout",
          "text": [
            "<class 'str'>\n",
            "<class 'tuple'>\n"
          ]
        }
      ]
    },
    {
      "cell_type": "markdown",
      "source": [
        "**#Another way to create a tuple is tuple() function.You do this when you want to create a tuple from an iterable object: that is, a type of object whose elements you can import individually.**"
      ],
      "metadata": {
        "id": "HgbzKTQ8X9ln"
      }
    },
    {
      "cell_type": "code",
      "source": [
        "empty_tuple_1 = tuple()\n",
        "\n",
        "print(empty_tuple_1)\n",
        "print(type(empty_tuple_1))"
      ],
      "metadata": {
        "colab": {
          "base_uri": "https://localhost:8080/"
        },
        "id": "vHiJ4hDeZq56",
        "outputId": "275296bb-dcce-408a-d1ee-5b4e9b9464cf"
      },
      "execution_count": null,
      "outputs": [
        {
          "output_type": "stream",
          "name": "stdout",
          "text": [
            "()\n",
            "<class 'tuple'>\n"
          ]
        }
      ]
    },
    {
      "cell_type": "markdown",
      "source": [
        "**#Actually, if your tuple contains more than one element, separating elements with commas will be enough.**"
      ],
      "metadata": {
        "id": "4CbGn2lXZgA2"
      }
    },
    {
      "cell_type": "code",
      "source": [
        "third_tuple = 'su','ates','toprak','tahta'\n",
        "print(third_tuple, type(third_tuple), sep = '\\n')"
      ],
      "metadata": {
        "colab": {
          "base_uri": "https://localhost:8080/"
        },
        "id": "g80BMYVEXv8t",
        "outputId": "0972cc63-72be-468a-b1ca-662b3e959b5f"
      },
      "execution_count": null,
      "outputs": [
        {
          "output_type": "stream",
          "name": "stdout",
          "text": [
            "('su', 'ates', 'toprak', 'tahta')\n",
            "<class 'tuple'>\n"
          ]
        }
      ]
    },
    {
      "cell_type": "markdown",
      "source": [
        "It's easy to convert between list and tuple."
      ],
      "metadata": {
        "id": "KoRBbywTZuNk"
      }
    },
    {
      "cell_type": "code",
      "source": [
        "my_tuple = (1, 4, 7, 9)\n",
        "print(list(my_tuple), type(list(my_tuple)), sep = '\\n' )"
      ],
      "metadata": {
        "colab": {
          "base_uri": "https://localhost:8080/"
        },
        "id": "tHziPPB3ZFZe",
        "outputId": "73a12a97-c451-4c52-c583-9bc2e07d6ce6"
      },
      "execution_count": null,
      "outputs": [
        {
          "output_type": "stream",
          "name": "stdout",
          "text": [
            "[1, 4, 7, 9]\n",
            "<class 'list'>\n"
          ]
        }
      ]
    },
    {
      "cell_type": "code",
      "source": [
        "my_list = [1, 4, 3, 4, 5, 6, 7, 4]\n",
        "\n",
        "my_tuple = tuple(my_list)\n",
        "\n",
        "print(type(my_tuple), my_tuple)"
      ],
      "metadata": {
        "colab": {
          "base_uri": "https://localhost:8080/"
        },
        "id": "7Ik2b5IgaaDW",
        "outputId": "ea545156-433b-4136-f1c3-6a98185c6230"
      },
      "execution_count": null,
      "outputs": [
        {
          "output_type": "stream",
          "name": "stdout",
          "text": [
            "<class 'tuple'> (1, 4, 3, 4, 5, 6, 7, 4)\n"
          ]
        }
      ]
    },
    {
      "cell_type": "markdown",
      "source": [
        "**#An iterable string can be converted to a tuple**"
      ],
      "metadata": {
        "id": "Ys52o3PcafO4"
      }
    },
    {
      "cell_type": "code",
      "source": [
        "sea = tuple('Karadeniz')\n",
        "print(sea)"
      ],
      "metadata": {
        "colab": {
          "base_uri": "https://localhost:8080/"
        },
        "id": "0nKNV7BnaD2a",
        "outputId": "94ca38ff-3581-4f8c-867f-d40b7f35ad09"
      },
      "execution_count": null,
      "outputs": [
        {
          "output_type": "stream",
          "name": "stdout",
          "text": [
            "('K', 'a', 'r', 'a', 'd', 'e', 'n', 'i', 'z')\n"
          ]
        }
      ]
    },
    {
      "cell_type": "code",
      "source": [
        "mountain = str('Agri',)\n",
        "print(mountain)"
      ],
      "metadata": {
        "colab": {
          "base_uri": "https://localhost:8080/"
        },
        "id": "KAYECEp-avGI",
        "outputId": "6f6a19e6-662c-4750-c0f3-b84fe2ad6bea"
      },
      "execution_count": null,
      "outputs": [
        {
          "output_type": "stream",
          "name": "stdout",
          "text": [
            "Agri\n"
          ]
        }
      ]
    },
    {
      "cell_type": "markdown",
      "source": [
        "**#As we mentioned before, tuples are like lists. It's possible to indexing or duplicate values or containig mix different data types in tuples.**"
      ],
      "metadata": {
        "id": "Jpjq4_UebNEP"
      }
    },
    {
      "cell_type": "code",
      "source": [
        "even_no = (0, 2, 4)\n",
        "print(even_no[0])    \n",
        "print(even_no[1])    \n",
        "print(even_no[2])   \n",
        "print(even_no[3])"
      ],
      "metadata": {
        "colab": {
          "base_uri": "https://localhost:8080/",
          "height": 265
        },
        "id": "j1-ijYhwa8rr",
        "outputId": "8b5a78ef-db9c-4d86-c4b1-c9b4ed41d31f"
      },
      "execution_count": null,
      "outputs": [
        {
          "output_type": "stream",
          "name": "stdout",
          "text": [
            "0\n",
            "2\n",
            "4\n"
          ]
        },
        {
          "output_type": "error",
          "ename": "IndexError",
          "evalue": "ignored",
          "traceback": [
            "\u001b[0;31m---------------------------------------------------------------------------\u001b[0m",
            "\u001b[0;31mIndexError\u001b[0m                                Traceback (most recent call last)",
            "\u001b[0;32m<ipython-input-20-00f3ccd45159>\u001b[0m in \u001b[0;36m<module>\u001b[0;34m()\u001b[0m\n\u001b[1;32m      3\u001b[0m \u001b[0mprint\u001b[0m\u001b[0;34m(\u001b[0m\u001b[0meven_no\u001b[0m\u001b[0;34m[\u001b[0m\u001b[0;36m1\u001b[0m\u001b[0;34m]\u001b[0m\u001b[0;34m)\u001b[0m\u001b[0;34m\u001b[0m\u001b[0;34m\u001b[0m\u001b[0m\n\u001b[1;32m      4\u001b[0m \u001b[0mprint\u001b[0m\u001b[0;34m(\u001b[0m\u001b[0meven_no\u001b[0m\u001b[0;34m[\u001b[0m\u001b[0;36m2\u001b[0m\u001b[0;34m]\u001b[0m\u001b[0;34m)\u001b[0m\u001b[0;34m\u001b[0m\u001b[0;34m\u001b[0m\u001b[0m\n\u001b[0;32m----> 5\u001b[0;31m \u001b[0mprint\u001b[0m\u001b[0;34m(\u001b[0m\u001b[0meven_no\u001b[0m\u001b[0;34m[\u001b[0m\u001b[0;36m3\u001b[0m\u001b[0;34m]\u001b[0m\u001b[0;34m)\u001b[0m\u001b[0;34m\u001b[0m\u001b[0;34m\u001b[0m\u001b[0m\n\u001b[0m",
            "\u001b[0;31mIndexError\u001b[0m: tuple index out of range"
          ]
        }
      ]
    },
    {
      "cell_type": "markdown",
      "source": [
        "**#One of the most difference from lists is tuples are immutable. You wil take error if you try assignment a element your tuple.**"
      ],
      "metadata": {
        "id": "WYDGVp0Ybwuy"
      }
    },
    {
      "cell_type": "code",
      "source": [
        "city_list = ['Tokyo', 'Istanbul', 'Moskow', 'Dublin']\n",
        "\n",
        "city_tuple = tuple(city_list)\n",
        "\n",
        "city_tuple[0] = 'New York'  # you can't assign a value"
      ],
      "metadata": {
        "colab": {
          "base_uri": "https://localhost:8080/",
          "height": 215
        },
        "id": "azRsJRKabkW5",
        "outputId": "b839c855-d735-45fa-80a2-10045915c8fe"
      },
      "execution_count": null,
      "outputs": [
        {
          "output_type": "error",
          "ename": "TypeError",
          "evalue": "ignored",
          "traceback": [
            "\u001b[0;31m---------------------------------------------------------------------------\u001b[0m",
            "\u001b[0;31mTypeError\u001b[0m                                 Traceback (most recent call last)",
            "\u001b[0;32m<ipython-input-21-e703d7fff350>\u001b[0m in \u001b[0;36m<module>\u001b[0;34m()\u001b[0m\n\u001b[1;32m      3\u001b[0m \u001b[0mcity_tuple\u001b[0m \u001b[0;34m=\u001b[0m \u001b[0mtuple\u001b[0m\u001b[0;34m(\u001b[0m\u001b[0mcity_list\u001b[0m\u001b[0;34m)\u001b[0m\u001b[0;34m\u001b[0m\u001b[0;34m\u001b[0m\u001b[0m\n\u001b[1;32m      4\u001b[0m \u001b[0;34m\u001b[0m\u001b[0m\n\u001b[0;32m----> 5\u001b[0;31m \u001b[0mcity_tuple\u001b[0m\u001b[0;34m[\u001b[0m\u001b[0;36m0\u001b[0m\u001b[0;34m]\u001b[0m \u001b[0;34m=\u001b[0m \u001b[0;34m'New York'\u001b[0m  \u001b[0;31m# you can't assign a value\u001b[0m\u001b[0;34m\u001b[0m\u001b[0;34m\u001b[0m\u001b[0m\n\u001b[0m",
            "\u001b[0;31mTypeError\u001b[0m: 'tuple' object does not support item assignment"
          ]
        }
      ]
    },
    {
      "cell_type": "markdown",
      "source": [
        "Dictionaries\n",
        "*   Creating a Dictionary\n",
        "*   Main Operations with Dictionaries\n",
        "*   Nested Dictionaries\n",
        "\n",
        "\n",
        "\n",
        "\n"
      ],
      "metadata": {
        "id": "qe6f26dKhfCj"
      }
    },
    {
      "cell_type": "markdown",
      "source": [
        "**#Dictionart is one the collection data types in Phyton. Like is the real dictionary, there are keys and values for each elements in dictionary. We call the key-value pairs items. The dictionary is enclosed by curly braces {}. Each item seperated with commas**"
      ],
      "metadata": {
        "id": "aY_AmtmLhtnb"
      }
    },
    {
      "cell_type": "code",
      "source": [
        "my_dict = {'key1': 'value1',\n",
        "            'key2': 'value2',\n",
        "            'key3': 'value3'\n",
        "            }"
      ],
      "metadata": {
        "id": "bwL8rkqljOFc"
      },
      "execution_count": null,
      "outputs": []
    },
    {
      "cell_type": "markdown",
      "source": [
        "#Creating a Dictionary"
      ],
      "metadata": {
        "id": "2QrLn3m3iXZ3"
      }
    },
    {
      "cell_type": "markdown",
      "source": [
        "There are two methods for create a dictonary. One of them is with curly braces{} and the other way is dict() function."
      ],
      "metadata": {
        "id": "cxmltfzJiv2u"
      }
    },
    {
      "cell_type": "code",
      "source": [
        "empty_dict = {}\n",
        "print(empty_dict, type(empty_dict), sep = '\\n')"
      ],
      "metadata": {
        "colab": {
          "base_uri": "https://localhost:8080/"
        },
        "id": "Jsu7yUQLcBB2",
        "outputId": "b79b8ca0-5355-4c5e-fcc5-0a7b859b51b2"
      },
      "execution_count": null,
      "outputs": [
        {
          "output_type": "stream",
          "name": "stdout",
          "text": [
            "{}\n",
            "<class 'dict'>\n"
          ]
        }
      ]
    },
    {
      "cell_type": "markdown",
      "source": [
        "**#The accesing a values is very simple in dictionaries. We write the key of the value for accesing value.**"
      ],
      "metadata": {
        "id": "R57MfLzGjbUC"
      }
    },
    {
      "cell_type": "code",
      "source": [
        "my_dict = {'Turkey':'Istanbul',\n",
        "           'France':'Paris',\n",
        "           'Italy':'Roma',\n",
        "           'Spain':'Madrid'\n",
        "           }\n",
        "print(my_dict['France'])\n"
      ],
      "metadata": {
        "colab": {
          "base_uri": "https://localhost:8080/"
        },
        "id": "tyDC6rRhjHJo",
        "outputId": "785b2cde-9b12-46c0-c8c6-f91f8cb34448"
      },
      "execution_count": null,
      "outputs": [
        {
          "output_type": "stream",
          "name": "stdout",
          "text": [
            "Paris\n"
          ]
        }
      ]
    },
    {
      "cell_type": "markdown",
      "source": [
        "**#We can add new element.**"
      ],
      "metadata": {
        "id": "SSFvKN38kib1"
      }
    },
    {
      "cell_type": "code",
      "source": [
        "my_dict = {'Turkey':'Istanbul',\n",
        "           'France':'Paris',\n",
        "           'Italy':'Roma',\n",
        "           'Spain':'Madrid'\n",
        "           }\n",
        "my_dict['Belgium'] = 'Brussel'\n",
        "print(my_dict)          "
      ],
      "metadata": {
        "colab": {
          "base_uri": "https://localhost:8080/"
        },
        "id": "DP2anCI9kh9H",
        "outputId": "abaf331d-a8fc-4c32-9dd3-3ab4f35cf51b"
      },
      "execution_count": null,
      "outputs": [
        {
          "output_type": "stream",
          "name": "stdout",
          "text": [
            "{'Turkey': 'Istanbul', 'France': 'Paris', 'Italy': 'Roma', 'Spain': 'Madrid', 'Belgium': 'Brussel'}\n"
          ]
        }
      ]
    },
    {
      "cell_type": "markdown",
      "source": [
        "**#Note that keys and values can be of different types.**"
      ],
      "metadata": {
        "id": "3qy1Yc9dlP98"
      }
    },
    {
      "cell_type": "code",
      "source": [
        "mix_values = {'element_1' : 3,\n",
        "              'element_2' : True,\n",
        "              'element_3' : 7.5,\n",
        "              'element_4' : ['saturn','mars'],\n",
        "              'element_5' : ('uranus',)\n",
        "              }\n",
        "print(type(mix_values['element_3']))              "
      ],
      "metadata": {
        "colab": {
          "base_uri": "https://localhost:8080/"
        },
        "id": "f-eSi7dUkc3x",
        "outputId": "093585fc-43d7-46cb-ad13-65e5898b3a06"
      },
      "execution_count": null,
      "outputs": [
        {
          "output_type": "stream",
          "name": "stdout",
          "text": [
            "<class 'float'>\n"
          ]
        }
      ]
    },
    {
      "cell_type": "markdown",
      "source": [
        "**#Creating a dictionary with dict() function is a little bit different**"
      ],
      "metadata": {
        "id": "h1fqsWLMmV0q"
      }
    },
    {
      "cell_type": "code",
      "source": [
        "new_dict = dict(Turkey = 'Istanbul', France = 'Paris', Italy = 'Roma', Spain = 'Madrid')\n",
        "print(new_dict)"
      ],
      "metadata": {
        "colab": {
          "base_uri": "https://localhost:8080/"
        },
        "id": "rHMy2QyWmCC_",
        "outputId": "216a0e26-3578-4584-ba68-20bb3ace847c"
      },
      "execution_count": null,
      "outputs": [
        {
          "output_type": "stream",
          "name": "stdout",
          "text": [
            "{'Turkey': 'Istanbul', 'France': 'Paris', 'Italy': 'Roma', 'Spain': 'Madrid'}\n"
          ]
        }
      ]
    },
    {
      "cell_type": "markdown",
      "source": [
        "#Main Operations with Dictionaries"
      ],
      "metadata": {
        "id": "sm-0S3BXm6ii"
      }
    },
    {
      "cell_type": "markdown",
      "source": [
        "**#There are several methods that allow us to access items, keys, and values. You can access all items using the .items() method, all keys using the .keys() method, and all values using the .values() method**"
      ],
      "metadata": {
        "id": "cMz8iEfEnC9E"
      }
    },
    {
      "cell_type": "code",
      "source": [
        "my_dict = {'Turkey':'Istanbul',\n",
        "           'France':'Paris',\n",
        "           'Italy':'Roma',\n",
        "           'Spain':'Madrid'\n",
        "           }\n",
        "print(my_dict.items())\n",
        "print(my_dict.keys())\n",
        "print(my_dict.values())"
      ],
      "metadata": {
        "colab": {
          "base_uri": "https://localhost:8080/"
        },
        "id": "p1PzkXBMmvwk",
        "outputId": "8bcc2760-98a7-4ec4-d29d-dc03beb33f2a"
      },
      "execution_count": null,
      "outputs": [
        {
          "output_type": "stream",
          "name": "stdout",
          "text": [
            "dict_items([('Turkey', 'Istanbul'), ('France', 'Paris'), ('Italy', 'Roma'), ('Spain', 'Madrid')])\n",
            "dict_keys(['Turkey', 'France', 'Italy', 'Spain'])\n",
            "dict_values(['Istanbul', 'Paris', 'Roma', 'Madrid'])\n"
          ]
        }
      ]
    },
    {
      "cell_type": "markdown",
      "source": [
        "**#As you realise the elements of the items, keys and values returns as a list.**"
      ],
      "metadata": {
        "id": "lQtEzRZCnbzv"
      }
    },
    {
      "cell_type": "markdown",
      "source": [
        "**#You can add new items using the .update() method.**\n",
        "\n",
        "\n"
      ],
      "metadata": {
        "id": "Dgl6RdV2nuQc"
      }
    },
    {
      "cell_type": "code",
      "source": [
        "my_dict = {'Turkey':'Istanbul',\n",
        "           'France':'Paris',\n",
        "           'Italy':'Roma',\n",
        "           'Spain':'Madrid'\n",
        "           }\n",
        "my_dict.update({'Germany' : 'Berlin'})\n",
        "print(my_dict)         "
      ],
      "metadata": {
        "colab": {
          "base_uri": "https://localhost:8080/"
        },
        "id": "WZqtNPvZnVjV",
        "outputId": "cc14cbfb-4b5b-41e2-f7d5-864aa3ff91f4"
      },
      "execution_count": null,
      "outputs": [
        {
          "output_type": "stream",
          "name": "stdout",
          "text": [
            "{'Turkey': 'Istanbul', 'France': 'Paris', 'Italy': 'Roma', 'Spain': 'Madrid', 'Germany': 'Berlin'}\n"
          ]
        }
      ]
    },
    {
      "cell_type": "markdown",
      "source": [
        "**#You can also remove an item using the del function:**\n",
        "\n"
      ],
      "metadata": {
        "id": "PG8XMhXkoNfi"
      }
    },
    {
      "cell_type": "code",
      "source": [
        "del my_dict['Turkey']\n",
        "print(my_dict)"
      ],
      "metadata": {
        "colab": {
          "base_uri": "https://localhost:8080/"
        },
        "id": "Hm2BZ-RfoJiR",
        "outputId": "babfe512-b914-4fa5-c5b9-fef903ba319d"
      },
      "execution_count": null,
      "outputs": [
        {
          "output_type": "stream",
          "name": "stdout",
          "text": [
            "{'France': 'Paris', 'Italy': 'Roma', 'Spain': 'Madrid', 'Germany': 'Berlin'}\n"
          ]
        }
      ]
    },
    {
      "cell_type": "markdown",
      "source": [
        "**#Using the in and the not in operator, you can check if the key is in the dictionary.**"
      ],
      "metadata": {
        "id": "sNxDOYk1odii"
      }
    },
    {
      "cell_type": "code",
      "source": [
        "print('Spain'in my_dict)\n",
        "print('United Nations' not in my_dict)\n",
        "print('Scotland'in my_dict)"
      ],
      "metadata": {
        "colab": {
          "base_uri": "https://localhost:8080/"
        },
        "id": "IKFXBASfoqy_",
        "outputId": "9179e425-d4fb-45d0-e34c-3b938550d118"
      },
      "execution_count": null,
      "outputs": [
        {
          "output_type": "stream",
          "name": "stdout",
          "text": [
            "True\n",
            "True\n",
            "False\n"
          ]
        }
      ]
    },
    {
      "cell_type": "markdown",
      "source": [
        "# Nested Dictionaries"
      ],
      "metadata": {
        "id": "a80tMiOPpKmZ"
      }
    },
    {
      "cell_type": "markdown",
      "source": [
        "**#In some cases, you need to work with the nested dict. When you decide to specialize in data science, we will work very often with dictionaries in the future.**"
      ],
      "metadata": {
        "id": "W2ZDE7XEpRDr"
      }
    },
    {
      "cell_type": "code",
      "source": [
        "school_records={\n",
        "    \"personal_info\":\n",
        "        {\"kid\":{\"tom\": {\"class\":\"intermediate\", \"age\":10},\n",
        "                \"sue\": {\"class\":\"elementary\", \"age\":8}\n",
        "               },\n",
        "         \"teen\":{\"joseph\":{\"class\":\"college\", \"age\":19},\n",
        "                 \"marry\":{\"class\":\"high school\", \"age\":16}\n",
        "               },               \n",
        "        },\n",
        "}\n",
        "\n",
        "print(school_records['personal_info']['teen']['marry']['age'])"
      ],
      "metadata": {
        "colab": {
          "base_uri": "https://localhost:8080/"
        },
        "id": "GNm_k_Z2oZzC",
        "outputId": "44bd96e3-28dc-4e9b-cac0-0164d37d30f6"
      },
      "execution_count": null,
      "outputs": [
        {
          "output_type": "stream",
          "name": "stdout",
          "text": [
            "16\n"
          ]
        }
      ]
    },
    {
      "cell_type": "markdown",
      "source": [
        "Sets\n",
        "*   Creating a Set\n",
        "*   Main Operations with set\n",
        "\n"
      ],
      "metadata": {
        "id": "XyE-5hlZqOmp"
      }
    },
    {
      "cell_type": "markdown",
      "source": [
        "**# A set is a collection of elements with no repets and without insertion order but sorted order.**"
      ],
      "metadata": {
        "id": "3wz7BOVSqgxV"
      }
    },
    {
      "cell_type": "markdown",
      "source": [
        "# Creating a Set"
      ],
      "metadata": {
        "id": "OfNe-Xf7qt3D"
      }
    },
    {
      "cell_type": "markdown",
      "source": [
        "**# Curly braces {} or the set() function can be used to create sets.But the only way to create an empty set is: use the set() function.**"
      ],
      "metadata": {
        "id": "6aYoa9P4q0yh"
      }
    },
    {
      "cell_type": "code",
      "source": [
        "empty_set = set()"
      ],
      "metadata": {
        "id": "iwGpiLIlqJHv"
      },
      "execution_count": null,
      "outputs": []
    },
    {
      "cell_type": "code",
      "source": [
        "basic_elements = {'su', 'ates', 'toprak', 'tahta'}\n",
        "print(basic_elements)"
      ],
      "metadata": {
        "colab": {
          "base_uri": "https://localhost:8080/"
        },
        "id": "mHC2iGN7rWe6",
        "outputId": "e017ce27-e9c1-415a-ec7b-20584c73bf13"
      },
      "execution_count": null,
      "outputs": [
        {
          "output_type": "stream",
          "name": "stdout",
          "text": [
            "{'ates', 'tahta', 'toprak', 'su'}\n"
          ]
        }
      ]
    },
    {
      "cell_type": "code",
      "source": [
        "s = set('fistikcisahap')\n",
        "print(s)"
      ],
      "metadata": {
        "colab": {
          "base_uri": "https://localhost:8080/"
        },
        "id": "S0UfnTh9rp6S",
        "outputId": "b06ff141-e722-4f84-80cd-41505f981e8e"
      },
      "execution_count": null,
      "outputs": [
        {
          "output_type": "stream",
          "name": "stdout",
          "text": [
            "{'i', 'f', 'a', 't', 'k', 's', 'p', 'h', 'c'}\n"
          ]
        }
      ]
    },
    {
      "cell_type": "markdown",
      "source": [
        "# Main Operations with Sets"
      ],
      "metadata": {
        "id": "b8482EHnsMDQ"
      }
    },
    {
      "cell_type": "markdown",
      "source": [
        "*   .add = adds a new item to the set\n",
        "*   .remove = remove a item in your set\n",
        "*   .intersection = returns the only same elements that contains in each sets &\n",
        "*   .union = returns the all elements that contains in eacht sets without repitition |\n",
        "*   .difference = gets the difference of two sets. -\n",
        "\n",
        "\n",
        "\n",
        "\n",
        "\n",
        "\n"
      ],
      "metadata": {
        "id": "OnG6JTNvsO3v"
      }
    },
    {
      "cell_type": "code",
      "source": [
        "a = set('abracadabra')\n",
        "\n",
        "print(a) "
      ],
      "metadata": {
        "colab": {
          "base_uri": "https://localhost:8080/"
        },
        "id": "TdHqJXPlsN64",
        "outputId": "ce4e7605-5bc9-4ecc-f554-985f07cd8944"
      },
      "execution_count": null,
      "outputs": [
        {
          "output_type": "stream",
          "name": "stdout",
          "text": [
            "{'r', 'a', 'd', 'c', 'b'}\n"
          ]
        }
      ]
    },
    {
      "cell_type": "code",
      "source": [
        "a = set('abracadabra')\n",
        "b = set('alacazam')\n",
        "\n",
        "print(a - b)  # same as '.difference()' method\n",
        "print(a.difference(b)) # a difference from b"
      ],
      "metadata": {
        "colab": {
          "base_uri": "https://localhost:8080/"
        },
        "id": "dTIEAH3grt67",
        "outputId": "49dd5492-d853-423d-822f-e7ef2eee2787"
      },
      "execution_count": null,
      "outputs": [
        {
          "output_type": "stream",
          "name": "stdout",
          "text": [
            "{'d', 'r', 'b'}\n",
            "{'d', 'r', 'b'}\n"
          ]
        }
      ]
    },
    {
      "cell_type": "code",
      "source": [
        "a = set('abracadabra')\n",
        "b = set('alacazam')\n",
        "\n",
        "print(a|b) # same as '.union()' method\n",
        "print(a.union(b)) # unification of a with b"
      ],
      "metadata": {
        "colab": {
          "base_uri": "https://localhost:8080/"
        },
        "id": "YpRVLLaNtu-V",
        "outputId": "457078fa-8e8c-4b28-a4b2-1fb0df23e9f7"
      },
      "execution_count": null,
      "outputs": [
        {
          "output_type": "stream",
          "name": "stdout",
          "text": [
            "{'r', 'l', 'a', 'z', 'm', 'd', 'c', 'b'}\n",
            "{'r', 'l', 'a', 'z', 'm', 'd', 'c', 'b'}\n"
          ]
        }
      ]
    },
    {
      "cell_type": "code",
      "source": [
        "a = set('abracadabra')\n",
        "b = set('alacazam')\n",
        "\n",
        "print(a & b)  # same as '.intersection()' method\n",
        "print(a.intersection(b)) # intersection of a and b"
      ],
      "metadata": {
        "colab": {
          "base_uri": "https://localhost:8080/"
        },
        "id": "JvULoygBuEqa",
        "outputId": "96ac49a0-4dfc-424b-c975-c546dc8fb442"
      },
      "execution_count": null,
      "outputs": [
        {
          "output_type": "stream",
          "name": "stdout",
          "text": [
            "{'c', 'a'}\n",
            "{'c', 'a'}\n"
          ]
        }
      ]
    },
    {
      "cell_type": "code",
      "source": [
        "a = set('abracadabra')\n",
        "\n",
        "a.remove('c') # we delete 'c' from the set\n",
        "print(a)"
      ],
      "metadata": {
        "colab": {
          "base_uri": "https://localhost:8080/"
        },
        "id": "eEBL0kZeuNy4",
        "outputId": "67b8be41-be4a-4bfa-a7a5-219e8b14b38c"
      },
      "execution_count": null,
      "outputs": [
        {
          "output_type": "stream",
          "name": "stdout",
          "text": [
            "{'r', 'a', 'd', 'b'}\n"
          ]
        }
      ]
    },
    {
      "cell_type": "code",
      "source": [
        "a = set('abracadabra')\n",
        "\n",
        "a.add('c') # we add 'c' again into the set\n",
        "print(a)\n"
      ],
      "metadata": {
        "id": "ZdrVkf_BubpD",
        "outputId": "a17d0a93-ac2d-4b09-dea1-caa91440821f",
        "colab": {
          "base_uri": "https://localhost:8080/"
        }
      },
      "execution_count": null,
      "outputs": [
        {
          "output_type": "stream",
          "name": "stdout",
          "text": [
            "{'r', 'a', 'd', 'c', 'b'}\n"
          ]
        }
      ]
    },
    {
      "cell_type": "code",
      "source": [
        ""
      ],
      "metadata": {
        "id": "9-fDX-_AudEg"
      },
      "execution_count": null,
      "outputs": []
    },
    {
      "cell_type": "markdown",
      "source": [
        "# Control Follow Statements"
      ],
      "metadata": {
        "id": "cJ4OEypTpp4P"
      }
    },
    {
      "cell_type": "markdown",
      "source": [
        "**In computer science, control flow is the order in which individual statements, instructions or functions calls of an imperative program are executed or evaluated.**\n",
        "\n",
        "\n"
      ],
      "metadata": {
        "id": "5LazAGEpp-vB"
      }
    },
    {
      "cell_type": "markdown",
      "source": [
        "# IF Statements\n",
        "*   Structure of the 'if'statements\n",
        "*   Comparison Operators\n",
        "*   If-else-elif statements\n",
        "*   Nested 'if-elif-else'statements\n",
        "\n",
        "\n",
        "\n",
        "\n"
      ],
      "metadata": {
        "id": "gMjyM-FmqQBH"
      }
    },
    {
      "cell_type": "markdown",
      "source": [
        "# Structure of the 'if' statements"
      ],
      "metadata": {
        "id": "GjK-HwqoqvO8"
      }
    },
    {
      "cell_type": "markdown",
      "source": [
        "**If statements takes boolean operations and working according the result of the boolean operations. If condition is true, it executes the body of the if statements. Otherwise it skips the body.**"
      ],
      "metadata": {
        "id": "N51bm0pXrC6b"
      }
    },
    {
      "cell_type": "code",
      "source": [
        "guest = 30\n",
        "prepared_food = 25\n",
        "if guest > prepared_food :\n",
        "   print('There is not enough food')"
      ],
      "metadata": {
        "colab": {
          "base_uri": "https://localhost:8080/"
        },
        "id": "MI80zK90rdKE",
        "outputId": "794719b6-c8ef-42a3-e339-44d9e48312ac"
      },
      "execution_count": null,
      "outputs": [
        {
          "output_type": "stream",
          "name": "stdout",
          "text": [
            "There is not enough food\n"
          ]
        }
      ]
    },
    {
      "cell_type": "markdown",
      "source": [
        "**As you realize, there is a colon at the end of your condition and you have four space(indentation) add before starting the new line after your colon. This is the basic structure of if statements in Phyton.**"
      ],
      "metadata": {
        "id": "pvy05f6ar-bw"
      }
    },
    {
      "cell_type": "markdown",
      "source": [
        "# Comparison Operators"
      ],
      "metadata": {
        "id": "kXTNIi7MslDy"
      }
    },
    {
      "cell_type": "markdown",
      "source": [
        "![JavaScript-Relational-or-Comparison-Operator.png](data:image/png;base64,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)"
      ],
      "metadata": {
        "id": "ZJZb98JasxK5"
      }
    },
    {
      "cell_type": "markdown",
      "source": [
        "# If-else-elif Statements"
      ],
      "metadata": {
        "id": "3GB5DanjtTZv"
      }
    },
    {
      "cell_type": "markdown",
      "source": [
        "**Else statements is the other structure that we use usually. If the condition of the if structere is not True, I mean that if the body is not working, then we can use for all other situatuins with else statements. Let's look at the example**"
      ],
      "metadata": {
        "id": "SLRdb-VstoiT"
      }
    },
    {
      "cell_type": "code",
      "source": [
        "guest = 20\n",
        "prepared_food = 25\n",
        "if guest > prepared_food : \n",
        "    print(\"There is not enough food\")\n",
        "else : \n",
        "    print(\"There is enough food\")   "
      ],
      "metadata": {
        "colab": {
          "base_uri": "https://localhost:8080/"
        },
        "id": "OKnU7Tkwu4a4",
        "outputId": "4f057f69-3bea-4364-efd9-74130fdbbf2b"
      },
      "execution_count": null,
      "outputs": [
        {
          "output_type": "stream",
          "name": "stdout",
          "text": [
            "There is enough food\n"
          ]
        }
      ]
    },
    {
      "cell_type": "markdown",
      "source": [
        "**Elif statements is used when it requires other conditions in our code. **"
      ],
      "metadata": {
        "id": "AGCJiOZ8vUYA"
      }
    },
    {
      "cell_type": "code",
      "source": [
        "guest = 25\n",
        "prepared_food = 25\n",
        "if guest > prepared_food : \n",
        "    print(\"There is not enough food\")\n",
        "elif guest == prepared_food :\n",
        "    print(\"Don't invite more people.\")  \n",
        "else :\n",
        "    print(\"There is enough food\")"
      ],
      "metadata": {
        "colab": {
          "base_uri": "https://localhost:8080/"
        },
        "id": "OTZhx4Asr21Y",
        "outputId": "6119e0e5-03f7-4ca3-9084-44030c9c7c44"
      },
      "execution_count": null,
      "outputs": [
        {
          "output_type": "stream",
          "name": "stdout",
          "text": [
            "Don't invite more people.\n"
          ]
        }
      ]
    },
    {
      "cell_type": "markdown",
      "source": [
        "# Nested if-elif-else Statements"
      ],
      "metadata": {
        "id": "_X9vhWXtwRsp"
      }
    },
    {
      "cell_type": "markdown",
      "source": [
        "**Both if-else and if-elif statements can be nested. Let's see the nested structure on the same movie ticket example.**"
      ],
      "metadata": {
        "id": "xa8QYFB_wXEX"
      }
    },
    {
      "cell_type": "code",
      "source": [
        "audience_group = 'kid', 'teen', 'adult'\n",
        "\n",
        "audience = \"teen\"\n",
        "\n",
        "if audience in audience_group:\n",
        "    if audience == \"kid\":\n",
        "        print(\"it is free to go to cinema\")\n",
        "    elif audience == \"teen\":\n",
        "        print(\"discounted price!\")\n",
        "    else: # audience == \"adult\":\n",
        "        print(\"normal price\")\n",
        "else:\n",
        "    print(\"No such audience, stay at your home!\")"
      ],
      "metadata": {
        "colab": {
          "base_uri": "https://localhost:8080/"
        },
        "id": "cFeZvuR7v1o4",
        "outputId": "856b7e88-e664-4449-ce76-c19f3b93e0bd"
      },
      "execution_count": null,
      "outputs": [
        {
          "output_type": "stream",
          "name": "stdout",
          "text": [
            "discounted price!\n"
          ]
        }
      ]
    },
    {
      "cell_type": "markdown",
      "source": [
        "# Loops Statements"
      ],
      "metadata": {
        "id": "hS2ltEcrzpS9"
      }
    },
    {
      "cell_type": "markdown",
      "source": [
        "**When writing a code sometimes it is not enough to execute our code only once. The loops are used to repeat(iterate) the execution of a block code.**"
      ],
      "metadata": {
        "id": "LbitrQbGz2QQ"
      }
    },
    {
      "cell_type": "markdown",
      "source": [
        "# 'While' loop"
      ],
      "metadata": {
        "id": "cyWViMaA0J0T"
      }
    },
    {
      "cell_type": "markdown",
      "source": [
        "**While loops have a boolean logic, similar to if statements. As long as the result of the conditions returns True, the code block under while loop runs.**"
      ],
      "metadata": {
        "id": "m3_gosxQ0g9T"
      }
    },
    {
      "cell_type": "code",
      "source": [
        "number = 0\n",
        "while number < 5 :\n",
        "    print(number)\n",
        "    number += 1\n",
        "print('now, number is bigger or equal to 5')    "
      ],
      "metadata": {
        "colab": {
          "base_uri": "https://localhost:8080/"
        },
        "id": "6esSZQA9wZLw",
        "outputId": "f71c6684-57f6-4b16-e528-f65e8e984775"
      },
      "execution_count": null,
      "outputs": [
        {
          "output_type": "stream",
          "name": "stdout",
          "text": [
            "0\n",
            "1\n",
            "2\n",
            "3\n",
            "4\n",
            "now, number is bigger or equal to 5\n"
          ]
        }
      ]
    },
    {
      "cell_type": "markdown",
      "source": [
        "**If we don't increase our number, our condition never becomes False and can work forever. That's why be careful when you increasing your number.**"
      ],
      "metadata": {
        "id": "jgEawpLC11PL"
      }
    },
    {
      "cell_type": "markdown",
      "source": [
        "# 'For' loop"
      ],
      "metadata": {
        "id": "lY8M3cAo25Sm"
      }
    },
    {
      "cell_type": "markdown",
      "source": [
        "**For loop is generally used to iterate through the elements of various collection types such as list, tuple, set and dictionary.**"
      ],
      "metadata": {
        "id": "aOS-BBBU27dZ"
      }
    },
    {
      "cell_type": "code",
      "source": [
        "list_1 = [1,2,3,4,5]\n",
        "for i in list_1 :\n",
        "    print(i)"
      ],
      "metadata": {
        "colab": {
          "base_uri": "https://localhost:8080/"
        },
        "id": "ZxtWAQCz3d0C",
        "outputId": "9f9e3382-0819-40ee-d04b-8b31c014f32a"
      },
      "execution_count": null,
      "outputs": [
        {
          "output_type": "stream",
          "name": "stdout",
          "text": [
            "1\n",
            "2\n",
            "3\n",
            "4\n",
            "5\n"
          ]
        }
      ]
    },
    {
      "cell_type": "markdown",
      "source": [
        "**You have to have iterable object for using loop. Iterable onject can be anything for which items are received one by one.**"
      ],
      "metadata": {
        "id": "_O00dxd_36MI"
      }
    },
    {
      "cell_type": "code",
      "source": [
        "number = 3678\n",
        "for i in number :\n",
        "    print(i)"
      ],
      "metadata": {
        "colab": {
          "base_uri": "https://localhost:8080/",
          "height": 215
        },
        "id": "EG7v1Ugl3zrQ",
        "outputId": "938281b6-832b-4008-8468-09f0b7020183"
      },
      "execution_count": null,
      "outputs": [
        {
          "output_type": "error",
          "ename": "TypeError",
          "evalue": "ignored",
          "traceback": [
            "\u001b[0;31m---------------------------------------------------------------------------\u001b[0m",
            "\u001b[0;31mTypeError\u001b[0m                                 Traceback (most recent call last)",
            "\u001b[0;32m<ipython-input-14-32d40226def1>\u001b[0m in \u001b[0;36m<module>\u001b[0;34m()\u001b[0m\n\u001b[1;32m      1\u001b[0m \u001b[0mnumber\u001b[0m \u001b[0;34m=\u001b[0m \u001b[0;36m3678\u001b[0m\u001b[0;34m\u001b[0m\u001b[0;34m\u001b[0m\u001b[0m\n\u001b[0;32m----> 2\u001b[0;31m \u001b[0;32mfor\u001b[0m \u001b[0mi\u001b[0m \u001b[0;32min\u001b[0m \u001b[0mnumber\u001b[0m \u001b[0;34m:\u001b[0m\u001b[0;34m\u001b[0m\u001b[0;34m\u001b[0m\u001b[0m\n\u001b[0m\u001b[1;32m      3\u001b[0m     \u001b[0mprint\u001b[0m\u001b[0;34m(\u001b[0m\u001b[0mi\u001b[0m\u001b[0;34m)\u001b[0m\u001b[0;34m\u001b[0m\u001b[0;34m\u001b[0m\u001b[0m\n",
            "\u001b[0;31mTypeError\u001b[0m: 'int' object is not iterable"
          ]
        }
      ]
    },
    {
      "cell_type": "markdown",
      "source": [
        "**Let's get to know the features of range() function in details:**\n",
        "\n",
        "***The range() function creates an iterable sequence of numbers. And it can be simply converted into an iterable object: list, set, and tuple.For example ***"
      ],
      "metadata": {
        "id": "Dcintjn44qnA"
      }
    },
    {
      "cell_type": "code",
      "source": [
        "b = list(range(11))\n",
        "\n",
        "print(b)"
      ],
      "metadata": {
        "colab": {
          "base_uri": "https://localhost:8080/"
        },
        "id": "guX8h7rP4tTu",
        "outputId": "faed8a5e-5364-4da8-aef2-5c6e1a4f64e3"
      },
      "execution_count": null,
      "outputs": [
        {
          "output_type": "stream",
          "name": "stdout",
          "text": [
            "[0, 1, 2, 3, 4, 5, 6, 7, 8, 9, 10]\n"
          ]
        }
      ]
    },
    {
      "cell_type": "markdown",
      "source": [
        "Starred expression 👉🏻* can separate other iterable objects. For example, you can separate a string: \n",
        "\n",
        "\n",
        "\n",
        "\n"
      ],
      "metadata": {
        "id": "CZkv3d3r4AhW"
      }
    },
    {
      "cell_type": "code",
      "source": [
        "print(*(\"Ali okula git\"))\n"
      ],
      "metadata": {
        "colab": {
          "base_uri": "https://localhost:8080/"
        },
        "id": "paBmY1hr404v",
        "outputId": "fb59d778-a955-4214-b3d9-05c316d133b0"
      },
      "execution_count": null,
      "outputs": [
        {
          "output_type": "stream",
          "name": "stdout",
          "text": [
            "A l i   o k u l a   g i t\n"
          ]
        }
      ]
    },
    {
      "cell_type": "markdown",
      "source": [
        "**zip() function make an iterator that aggregates elements from each of the iterables.**"
      ],
      "metadata": {
        "id": "B8hazIRN52mb"
      }
    },
    {
      "cell_type": "code",
      "source": [
        "text = ['one','two','three','four','five']\n",
        "numbers = [1,2,3,4,5]\n",
        "for x,y in zip(text,numbers) :\n",
        "    print(x, ':', y)"
      ],
      "metadata": {
        "colab": {
          "base_uri": "https://localhost:8080/"
        },
        "id": "0RKAjcRx5bGE",
        "outputId": "912e080d-6a42-4d5d-bad0-6a2f7e40601d"
      },
      "execution_count": null,
      "outputs": [
        {
          "output_type": "stream",
          "name": "stdout",
          "text": [
            "one : 1\n",
            "two : 2\n",
            "three : 3\n",
            "four : 4\n",
            "five : 5\n"
          ]
        }
      ]
    },
    {
      "cell_type": "markdown",
      "source": [
        "# Nested 'for' loop"
      ],
      "metadata": {
        "id": "fyWdvFhx6MF_"
      }
    },
    {
      "cell_type": "code",
      "source": [
        "who = ['I am ', 'You are ']\n",
        "mood = ['happy', 'confident']\n",
        "for i in who:\n",
        "    for ii in mood:\n",
        "        print(i + ii)"
      ],
      "metadata": {
        "colab": {
          "base_uri": "https://localhost:8080/"
        },
        "id": "1ZLEQoqr5zlj",
        "outputId": "3b8d8f59-2e2a-44cb-9c0a-7648168f53ff"
      },
      "execution_count": null,
      "outputs": [
        {
          "output_type": "stream",
          "name": "stdout",
          "text": [
            "I am happy\n",
            "I am confident\n",
            "You are happy\n",
            "You are confident\n"
          ]
        }
      ]
    },
    {
      "cell_type": "code",
      "source": [
        ""
      ],
      "metadata": {
        "id": "FHHhnAwC6STi"
      },
      "execution_count": null,
      "outputs": []
    }
  ]
}